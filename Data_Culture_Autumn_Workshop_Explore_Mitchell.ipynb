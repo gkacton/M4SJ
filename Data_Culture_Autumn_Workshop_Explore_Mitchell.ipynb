{
  "nbformat": 4,
  "nbformat_minor": 0,
  "metadata": {
    "colab": {
      "provenance": [],
      "include_colab_link": true
    },
    "kernelspec": {
      "name": "python3",
      "display_name": "Python 3"
    },
    "language_info": {
      "name": "python"
    }
  },
  "cells": [
    {
      "cell_type": "markdown",
      "metadata": {
        "id": "view-in-github",
        "colab_type": "text"
      },
      "source": [
        "<a href=\"https://colab.research.google.com/github/gkacton/M4SJ/blob/main/Data_Culture_Autumn_Workshop_Explore_Mitchell.ipynb\" target=\"_parent\"><img src=\"https://colab.research.google.com/assets/colab-badge.svg\" alt=\"Open In Colab\"/></a>"
      ]
    },
    {
      "cell_type": "markdown",
      "source": [
        "# Hands-on Session\n",
        "## 🌻 Fun with Press Directories 🦄\n",
        "\n",
        "What we will do in this session:\n",
        "- Introduce notebooks and pandas as a framework for working with historical tabular data.\n",
        "- Investigate the content of the digitized Press Directories.\n",
        "- Explore a few case studies that demonstrate how to use the directories for research on the press.\n",
        "\n",
        "![](https://i.giphy.com/media/v1.Y2lkPTc5MGI3NjExMGExemc4c3ZhaDVzNTZlM2JnNDFvcm11YW53bmY1cnk3cGM0bm40ZiZlcD12MV9pbnRlcm5hbF9naWZfYnlfaWQmY3Q9Zw/lTpme2Po0hkqI/giphy.gif)"
      ],
      "metadata": {
        "id": "DM5je7bXzm33"
      }
    },
    {
      "cell_type": "markdown",
      "source": [
        "### First of all... Notebooks <3\n",
        "\n",
        "...what am I looking at here?\n"
      ],
      "metadata": {
        "id": "LstFFd0k1wJJ"
      }
    },
    {
      "cell_type": "markdown",
      "source": [
        "*Welcome to* **Markdown**\n",
        "\n",
        "You write text..."
      ],
      "metadata": {
        "id": "5i_X_KBD17l7"
      }
    },
    {
      "cell_type": "code",
      "source": [
        "# and Python code\n",
        "print('Hello, World')"
      ],
      "metadata": {
        "colab": {
          "base_uri": "https://localhost:8080/"
        },
        "id": "BzfUWplg2PPI",
        "outputId": "7e41d546-c539-450e-89d3-0aee6d6eaa8c"
      },
      "execution_count": null,
      "outputs": [
        {
          "output_type": "stream",
          "name": "stdout",
          "text": [
            "Hello, World\n"
          ]
        }
      ]
    },
    {
      "cell_type": "code",
      "source": [
        "# text is Python is called strings, abbreviated as str\n",
        "type('Hello, World')"
      ],
      "metadata": {
        "id": "6nJjeVuRwRav"
      },
      "execution_count": null,
      "outputs": []
    },
    {
      "cell_type": "code",
      "source": [
        "# but of course, Python also accepts numbers!\n",
        "4 + 2"
      ],
      "metadata": {
        "id": "wVaWan9JsTRo"
      },
      "execution_count": null,
      "outputs": []
    },
    {
      "cell_type": "code",
      "source": [
        "# or floats\n",
        "4.0 + 3.42"
      ],
      "metadata": {
        "colab": {
          "base_uri": "https://localhost:8080/"
        },
        "id": "Ty8SLCZlwZq5",
        "outputId": "ac7901f2-3e94-4ebd-d14c-d51d91a42df3"
      },
      "execution_count": null,
      "outputs": [
        {
          "output_type": "execute_result",
          "data": {
            "text/plain": [
              "7.42"
            ]
          },
          "metadata": {},
          "execution_count": 25
        }
      ]
    },
    {
      "cell_type": "code",
      "source": [
        "# saving information in a variable\n",
        "a = 'hello'\n",
        "print(a)"
      ],
      "metadata": {
        "id": "EimP8Fwg4lYz"
      },
      "execution_count": null,
      "outputs": []
    },
    {
      "cell_type": "markdown",
      "source": [
        "❗ You will need to run all the cells in order ❗"
      ],
      "metadata": {
        "id": "deaiNStHArQC"
      }
    },
    {
      "cell_type": "markdown",
      "source": [
        "Now you know enough technical stuff to follow along."
      ],
      "metadata": {
        "id": "gRea-zKF4T5G"
      }
    },
    {
      "cell_type": "markdown",
      "source": [
        "## Finding the Directories Online\n",
        "\n"
      ],
      "metadata": {
        "id": "Fit5zWvK85z5"
      }
    },
    {
      "cell_type": "markdown",
      "source": [
        "You can consult the directories [online](https://bl.iro.bl.uk/concern/datasets/adcef12a-bb3d-40d9-871d-5784022a77e8)\n",
        "\n",
        "Let's have a look at the documentation first and open the attached PDF.\n",
        "\n",
        "We will have a closer look at how to explore the directories using code (Python). However, if you are more comfortable with Excel (😵‍💫) feel free to explore the data there (life is short)."
      ],
      "metadata": {
        "id": "IbcB_Cte8wXa"
      }
    },
    {
      "cell_type": "markdown",
      "source": [
        "### Why Python\n",
        "\n",
        "This session is not an introduction to Python or programming.\n",
        "\n",
        "The goal is to show what you can do with the Press Directories, using a bit of code.\n",
        "\n",
        "For those who know Python, relax and follow along.\n",
        "\n",
        "Those new to coding should try to understand what is happening and focus on the outcomes (not the code). All code is explained with comments, but don't try to understand the syntax.\n",
        "\n",
        "If you are intrigued, I can recommend [this book](https://jakevdp.github.io/PythonDataScienceHandbook/) if you want more and work with data frames/tabular data in Python!"
      ],
      "metadata": {
        "id": "J9OhIOxPiwcS"
      }
    },
    {
      "cell_type": "markdown",
      "source": [
        "## Exploring the Directories with Pandas\n",
        "\n",
        "![pandas](https://i.giphy.com/media/v1.Y2lkPTc5MGI3NjExanp1NHdzbnA4cWUxdGNoazYwN2c0Y2E5am96YW5rNTNkd2Q4YXJtdiZlcD12MV9pbnRlcm5hbF9naWZfYnlfaWQmY3Q9Zw/aCa8jFalHHJvi/giphy.gif)"
      ],
      "metadata": {
        "id": "nfcZ83Tz4Lqy"
      }
    },
    {
      "cell_type": "markdown",
      "source": [
        "### Importing data"
      ],
      "metadata": {
        "id": "HeLp4qw0Gd0o"
      }
    },
    {
      "cell_type": "code",
      "source": [
        "# import the pandas library\n",
        "import pandas as pd"
      ],
      "metadata": {
        "id": "PWkoBThF6Ik6"
      },
      "execution_count": 1,
      "outputs": []
    },
    {
      "cell_type": "code",
      "source": [
        "# open the CSV file given the URL\n",
        "# you can also download the file and use it locally\n",
        "df = pd.read_csv('https://bl.iro.bl.uk/downloads/da65047c-4d62-4ab7-946f-8e61e5f6f331?locale=en', index_col=0)"
      ],
      "metadata": {
        "id": "peD6cFRq8WI8"
      },
      "execution_count": 2,
      "outputs": []
    },
    {
      "cell_type": "code",
      "source": [
        "# replace the NaN (not a number) values with empty spaces\n",
        "# otherwise code will break later on\n",
        "df.fillna('', inplace=True)"
      ],
      "metadata": {
        "id": "vL2efNw3Qz2a"
      },
      "execution_count": 3,
      "outputs": []
    },
    {
      "cell_type": "code",
      "execution_count": 4,
      "metadata": {
        "id": "zanm8w4KzPpT",
        "outputId": "60fb0bc5-c1fc-4db3-ec05-36761a31fc90",
        "colab": {
          "base_uri": "https://localhost:8080/"
        }
      },
      "outputs": [
        {
          "output_type": "stream",
          "name": "stdout",
          "text": [
            "(92266, 16)\n"
          ]
        }
      ],
      "source": [
        "# show the number rows and columns\n",
        "print(df.shape)"
      ]
    },
    {
      "cell_type": "code",
      "source": [
        "# example of first two rows\n",
        "df.head(2)"
      ],
      "metadata": {
        "id": "K9T-7W-GACCz",
        "outputId": "2f84db6a-4136-446b-84b1-88aa3d1a54d7",
        "colab": {
          "base_uri": "https://localhost:8080/",
          "height": 306
        }
      },
      "execution_count": 5,
      "outputs": [
        {
          "output_type": "execute_result",
          "data": {
            "text/plain": [
              "            ID    CHAIN_ID  YEAR                   TITLE PRICE POLITICS  \\\n",
              "0  MPD_1846_57  CID_000000  1846  JUSTICE OF THE PEACE .    6d            \n",
              "1  MPD_1847_65  CID_000000  1847  JUSTICE OF THE PEACE .    6d            \n",
              "\n",
              "    ESTABLISHED_DATE PUBLISED_DATE     PERSONS ORGANIZATIONS PLACE_PUB  \\\n",
              "0  January 28 , 1837      Saturday  Henry Shaw                  london   \n",
              "1  January 28 , 1837      Saturday  Henry Shaw                  london   \n",
              "\n",
              "  PLACE_PUB_WIKI       PLACE_PUB_COORD             PLACES  \\\n",
              "0            Q84  (51.507222, -0.1275)  137 , Fetter Lane   \n",
              "1            Q84  (51.507222, -0.1275)  137 , Fetter Lane   \n",
              "\n",
              "                                         PLACES_TRES  \\\n",
              "0  [{'mention': 'Fetter Lane', 'pos': 35, 'sent_i...   \n",
              "1  [{'mention': 'Fetter Lane', 'pos': 35, 'sent_i...   \n",
              "\n",
              "                                                TEXT  \n",
              "0  JUSTICE OF THE PEACE . Saturday , Price 6d . E...  \n",
              "1  JUSTICE OF THE PEACE . Saturday , Price 6d . E...  "
            ],
            "text/html": [
              "\n",
              "  <div id=\"df-4283bed0-3e5f-47b2-8f8a-f8358a13cc4d\" class=\"colab-df-container\">\n",
              "    <div>\n",
              "<style scoped>\n",
              "    .dataframe tbody tr th:only-of-type {\n",
              "        vertical-align: middle;\n",
              "    }\n",
              "\n",
              "    .dataframe tbody tr th {\n",
              "        vertical-align: top;\n",
              "    }\n",
              "\n",
              "    .dataframe thead th {\n",
              "        text-align: right;\n",
              "    }\n",
              "</style>\n",
              "<table border=\"1\" class=\"dataframe\">\n",
              "  <thead>\n",
              "    <tr style=\"text-align: right;\">\n",
              "      <th></th>\n",
              "      <th>ID</th>\n",
              "      <th>CHAIN_ID</th>\n",
              "      <th>YEAR</th>\n",
              "      <th>TITLE</th>\n",
              "      <th>PRICE</th>\n",
              "      <th>POLITICS</th>\n",
              "      <th>ESTABLISHED_DATE</th>\n",
              "      <th>PUBLISED_DATE</th>\n",
              "      <th>PERSONS</th>\n",
              "      <th>ORGANIZATIONS</th>\n",
              "      <th>PLACE_PUB</th>\n",
              "      <th>PLACE_PUB_WIKI</th>\n",
              "      <th>PLACE_PUB_COORD</th>\n",
              "      <th>PLACES</th>\n",
              "      <th>PLACES_TRES</th>\n",
              "      <th>TEXT</th>\n",
              "    </tr>\n",
              "  </thead>\n",
              "  <tbody>\n",
              "    <tr>\n",
              "      <th>0</th>\n",
              "      <td>MPD_1846_57</td>\n",
              "      <td>CID_000000</td>\n",
              "      <td>1846</td>\n",
              "      <td>JUSTICE OF THE PEACE .</td>\n",
              "      <td>6d</td>\n",
              "      <td></td>\n",
              "      <td>January 28 , 1837</td>\n",
              "      <td>Saturday</td>\n",
              "      <td>Henry Shaw</td>\n",
              "      <td></td>\n",
              "      <td>london</td>\n",
              "      <td>Q84</td>\n",
              "      <td>(51.507222, -0.1275)</td>\n",
              "      <td>137 , Fetter Lane</td>\n",
              "      <td>[{'mention': 'Fetter Lane', 'pos': 35, 'sent_i...</td>\n",
              "      <td>JUSTICE OF THE PEACE . Saturday , Price 6d . E...</td>\n",
              "    </tr>\n",
              "    <tr>\n",
              "      <th>1</th>\n",
              "      <td>MPD_1847_65</td>\n",
              "      <td>CID_000000</td>\n",
              "      <td>1847</td>\n",
              "      <td>JUSTICE OF THE PEACE .</td>\n",
              "      <td>6d</td>\n",
              "      <td></td>\n",
              "      <td>January 28 , 1837</td>\n",
              "      <td>Saturday</td>\n",
              "      <td>Henry Shaw</td>\n",
              "      <td></td>\n",
              "      <td>london</td>\n",
              "      <td>Q84</td>\n",
              "      <td>(51.507222, -0.1275)</td>\n",
              "      <td>137 , Fetter Lane</td>\n",
              "      <td>[{'mention': 'Fetter Lane', 'pos': 35, 'sent_i...</td>\n",
              "      <td>JUSTICE OF THE PEACE . Saturday , Price 6d . E...</td>\n",
              "    </tr>\n",
              "  </tbody>\n",
              "</table>\n",
              "</div>\n",
              "    <div class=\"colab-df-buttons\">\n",
              "\n",
              "  <div class=\"colab-df-container\">\n",
              "    <button class=\"colab-df-convert\" onclick=\"convertToInteractive('df-4283bed0-3e5f-47b2-8f8a-f8358a13cc4d')\"\n",
              "            title=\"Convert this dataframe to an interactive table.\"\n",
              "            style=\"display:none;\">\n",
              "\n",
              "  <svg xmlns=\"http://www.w3.org/2000/svg\" height=\"24px\" viewBox=\"0 -960 960 960\">\n",
              "    <path d=\"M120-120v-720h720v720H120Zm60-500h600v-160H180v160Zm220 220h160v-160H400v160Zm0 220h160v-160H400v160ZM180-400h160v-160H180v160Zm440 0h160v-160H620v160ZM180-180h160v-160H180v160Zm440 0h160v-160H620v160Z\"/>\n",
              "  </svg>\n",
              "    </button>\n",
              "\n",
              "  <style>\n",
              "    .colab-df-container {\n",
              "      display:flex;\n",
              "      gap: 12px;\n",
              "    }\n",
              "\n",
              "    .colab-df-convert {\n",
              "      background-color: #E8F0FE;\n",
              "      border: none;\n",
              "      border-radius: 50%;\n",
              "      cursor: pointer;\n",
              "      display: none;\n",
              "      fill: #1967D2;\n",
              "      height: 32px;\n",
              "      padding: 0 0 0 0;\n",
              "      width: 32px;\n",
              "    }\n",
              "\n",
              "    .colab-df-convert:hover {\n",
              "      background-color: #E2EBFA;\n",
              "      box-shadow: 0px 1px 2px rgba(60, 64, 67, 0.3), 0px 1px 3px 1px rgba(60, 64, 67, 0.15);\n",
              "      fill: #174EA6;\n",
              "    }\n",
              "\n",
              "    .colab-df-buttons div {\n",
              "      margin-bottom: 4px;\n",
              "    }\n",
              "\n",
              "    [theme=dark] .colab-df-convert {\n",
              "      background-color: #3B4455;\n",
              "      fill: #D2E3FC;\n",
              "    }\n",
              "\n",
              "    [theme=dark] .colab-df-convert:hover {\n",
              "      background-color: #434B5C;\n",
              "      box-shadow: 0px 1px 3px 1px rgba(0, 0, 0, 0.15);\n",
              "      filter: drop-shadow(0px 1px 2px rgba(0, 0, 0, 0.3));\n",
              "      fill: #FFFFFF;\n",
              "    }\n",
              "  </style>\n",
              "\n",
              "    <script>\n",
              "      const buttonEl =\n",
              "        document.querySelector('#df-4283bed0-3e5f-47b2-8f8a-f8358a13cc4d button.colab-df-convert');\n",
              "      buttonEl.style.display =\n",
              "        google.colab.kernel.accessAllowed ? 'block' : 'none';\n",
              "\n",
              "      async function convertToInteractive(key) {\n",
              "        const element = document.querySelector('#df-4283bed0-3e5f-47b2-8f8a-f8358a13cc4d');\n",
              "        const dataTable =\n",
              "          await google.colab.kernel.invokeFunction('convertToInteractive',\n",
              "                                                    [key], {});\n",
              "        if (!dataTable) return;\n",
              "\n",
              "        const docLinkHtml = 'Like what you see? Visit the ' +\n",
              "          '<a target=\"_blank\" href=https://colab.research.google.com/notebooks/data_table.ipynb>data table notebook</a>'\n",
              "          + ' to learn more about interactive tables.';\n",
              "        element.innerHTML = '';\n",
              "        dataTable['output_type'] = 'display_data';\n",
              "        await google.colab.output.renderOutput(dataTable, element);\n",
              "        const docLink = document.createElement('div');\n",
              "        docLink.innerHTML = docLinkHtml;\n",
              "        element.appendChild(docLink);\n",
              "      }\n",
              "    </script>\n",
              "  </div>\n",
              "\n",
              "\n",
              "<div id=\"df-7d3bf7c9-98a6-429d-b448-4cfce84ae372\">\n",
              "  <button class=\"colab-df-quickchart\" onclick=\"quickchart('df-7d3bf7c9-98a6-429d-b448-4cfce84ae372')\"\n",
              "            title=\"Suggest charts\"\n",
              "            style=\"display:none;\">\n",
              "\n",
              "<svg xmlns=\"http://www.w3.org/2000/svg\" height=\"24px\"viewBox=\"0 0 24 24\"\n",
              "     width=\"24px\">\n",
              "    <g>\n",
              "        <path d=\"M19 3H5c-1.1 0-2 .9-2 2v14c0 1.1.9 2 2 2h14c1.1 0 2-.9 2-2V5c0-1.1-.9-2-2-2zM9 17H7v-7h2v7zm4 0h-2V7h2v10zm4 0h-2v-4h2v4z\"/>\n",
              "    </g>\n",
              "</svg>\n",
              "  </button>\n",
              "\n",
              "<style>\n",
              "  .colab-df-quickchart {\n",
              "      --bg-color: #E8F0FE;\n",
              "      --fill-color: #1967D2;\n",
              "      --hover-bg-color: #E2EBFA;\n",
              "      --hover-fill-color: #174EA6;\n",
              "      --disabled-fill-color: #AAA;\n",
              "      --disabled-bg-color: #DDD;\n",
              "  }\n",
              "\n",
              "  [theme=dark] .colab-df-quickchart {\n",
              "      --bg-color: #3B4455;\n",
              "      --fill-color: #D2E3FC;\n",
              "      --hover-bg-color: #434B5C;\n",
              "      --hover-fill-color: #FFFFFF;\n",
              "      --disabled-bg-color: #3B4455;\n",
              "      --disabled-fill-color: #666;\n",
              "  }\n",
              "\n",
              "  .colab-df-quickchart {\n",
              "    background-color: var(--bg-color);\n",
              "    border: none;\n",
              "    border-radius: 50%;\n",
              "    cursor: pointer;\n",
              "    display: none;\n",
              "    fill: var(--fill-color);\n",
              "    height: 32px;\n",
              "    padding: 0;\n",
              "    width: 32px;\n",
              "  }\n",
              "\n",
              "  .colab-df-quickchart:hover {\n",
              "    background-color: var(--hover-bg-color);\n",
              "    box-shadow: 0 1px 2px rgba(60, 64, 67, 0.3), 0 1px 3px 1px rgba(60, 64, 67, 0.15);\n",
              "    fill: var(--button-hover-fill-color);\n",
              "  }\n",
              "\n",
              "  .colab-df-quickchart-complete:disabled,\n",
              "  .colab-df-quickchart-complete:disabled:hover {\n",
              "    background-color: var(--disabled-bg-color);\n",
              "    fill: var(--disabled-fill-color);\n",
              "    box-shadow: none;\n",
              "  }\n",
              "\n",
              "  .colab-df-spinner {\n",
              "    border: 2px solid var(--fill-color);\n",
              "    border-color: transparent;\n",
              "    border-bottom-color: var(--fill-color);\n",
              "    animation:\n",
              "      spin 1s steps(1) infinite;\n",
              "  }\n",
              "\n",
              "  @keyframes spin {\n",
              "    0% {\n",
              "      border-color: transparent;\n",
              "      border-bottom-color: var(--fill-color);\n",
              "      border-left-color: var(--fill-color);\n",
              "    }\n",
              "    20% {\n",
              "      border-color: transparent;\n",
              "      border-left-color: var(--fill-color);\n",
              "      border-top-color: var(--fill-color);\n",
              "    }\n",
              "    30% {\n",
              "      border-color: transparent;\n",
              "      border-left-color: var(--fill-color);\n",
              "      border-top-color: var(--fill-color);\n",
              "      border-right-color: var(--fill-color);\n",
              "    }\n",
              "    40% {\n",
              "      border-color: transparent;\n",
              "      border-right-color: var(--fill-color);\n",
              "      border-top-color: var(--fill-color);\n",
              "    }\n",
              "    60% {\n",
              "      border-color: transparent;\n",
              "      border-right-color: var(--fill-color);\n",
              "    }\n",
              "    80% {\n",
              "      border-color: transparent;\n",
              "      border-right-color: var(--fill-color);\n",
              "      border-bottom-color: var(--fill-color);\n",
              "    }\n",
              "    90% {\n",
              "      border-color: transparent;\n",
              "      border-bottom-color: var(--fill-color);\n",
              "    }\n",
              "  }\n",
              "</style>\n",
              "\n",
              "  <script>\n",
              "    async function quickchart(key) {\n",
              "      const quickchartButtonEl =\n",
              "        document.querySelector('#' + key + ' button');\n",
              "      quickchartButtonEl.disabled = true;  // To prevent multiple clicks.\n",
              "      quickchartButtonEl.classList.add('colab-df-spinner');\n",
              "      try {\n",
              "        const charts = await google.colab.kernel.invokeFunction(\n",
              "            'suggestCharts', [key], {});\n",
              "      } catch (error) {\n",
              "        console.error('Error during call to suggestCharts:', error);\n",
              "      }\n",
              "      quickchartButtonEl.classList.remove('colab-df-spinner');\n",
              "      quickchartButtonEl.classList.add('colab-df-quickchart-complete');\n",
              "    }\n",
              "    (() => {\n",
              "      let quickchartButtonEl =\n",
              "        document.querySelector('#df-7d3bf7c9-98a6-429d-b448-4cfce84ae372 button');\n",
              "      quickchartButtonEl.style.display =\n",
              "        google.colab.kernel.accessAllowed ? 'block' : 'none';\n",
              "    })();\n",
              "  </script>\n",
              "</div>\n",
              "\n",
              "    </div>\n",
              "  </div>\n"
            ],
            "application/vnd.google.colaboratory.intrinsic+json": {
              "type": "dataframe",
              "variable_name": "df",
              "summary": "{\n  \"name\": \"df\",\n  \"rows\": 92266,\n  \"fields\": [\n    {\n      \"column\": \"ID\",\n      \"properties\": {\n        \"dtype\": \"string\",\n        \"num_unique_values\": 92266,\n        \"samples\": [\n          \"MPD_1920_1204\",\n          \"MPD_1886_1140\",\n          \"MPD_1914_1645\"\n        ],\n        \"semantic_type\": \"\",\n        \"description\": \"\"\n      }\n    },\n    {\n      \"column\": \"CHAIN_ID\",\n      \"properties\": {\n        \"dtype\": \"category\",\n        \"num_unique_values\": 6622,\n        \"samples\": [\n          \"CID_000100\",\n          \"CID_001052\",\n          \"CID_001516\"\n        ],\n        \"semantic_type\": \"\",\n        \"description\": \"\"\n      }\n    },\n    {\n      \"column\": \"YEAR\",\n      \"properties\": {\n        \"dtype\": \"number\",\n        \"std\": 17,\n        \"min\": 1846,\n        \"max\": 1920,\n        \"num_unique_values\": 53,\n        \"samples\": [\n          1874,\n          1900,\n          1910\n        ],\n        \"semantic_type\": \"\",\n        \"description\": \"\"\n      }\n    },\n    {\n      \"column\": \"TITLE\",\n      \"properties\": {\n        \"dtype\": \"category\",\n        \"num_unique_values\": 10201,\n        \"samples\": [\n          \"NORTHERN HERALD .\",\n          \"CAMBRIDGE GAZETTE .\",\n          \"ISLE OF WIGHT ADVERTISER AND RYDE AND VENTNOR TIMES .\"\n        ],\n        \"semantic_type\": \"\",\n        \"description\": \"\"\n      }\n    },\n    {\n      \"column\": \"PRICE\",\n      \"properties\": {\n        \"dtype\": \"category\",\n        \"num_unique_values\": 422,\n        \"samples\": [\n          \"\\u00a3 1 14s 8d\",\n          \"\\u00bd d \",\n          \"3 \\u00bd d<SEP>4 \\u00bd d<SEP>1d\"\n        ],\n        \"semantic_type\": \"\",\n        \"description\": \"\"\n      }\n    },\n    {\n      \"column\": \"POLITICS\",\n      \"properties\": {\n        \"dtype\": \"category\",\n        \"num_unique_values\": 188,\n        \"samples\": [\n          \"gladstonian\",\n          \"constitutional<SEP>independent\",\n          \"constitutional\"\n        ],\n        \"semantic_type\": \"\",\n        \"description\": \"\"\n      }\n    },\n    {\n      \"column\": \"ESTABLISHED_DATE\",\n      \"properties\": {\n        \"dtype\": \"category\",\n        \"num_unique_values\": 3694,\n        \"samples\": [\n          \"1820\",\n          \"Jan . 1 , 1889\",\n          \"1839\"\n        ],\n        \"semantic_type\": \"\",\n        \"description\": \"\"\n      }\n    },\n    {\n      \"column\": \"PUBLISED_DATE\",\n      \"properties\": {\n        \"dtype\": \"category\",\n        \"num_unique_values\": 3157,\n        \"samples\": [\n          \" f<SEP>aturday\",\n          \"\\u2014<SEP>rhursday\",\n          \"Tuesday<SEP>morning<SEP>Tuesday\"\n        ],\n        \"semantic_type\": \"\",\n        \"description\": \"\"\n      }\n    },\n    {\n      \"column\": \"PERSONS\",\n      \"properties\": {\n        \"dtype\": \"category\",\n        \"num_unique_values\": 9724,\n        \"samples\": [\n          \"J. Taylor & E. Robbins\",\n          \"D. E lwards\",\n          \"S. Daniel\"\n        ],\n        \"semantic_type\": \"\",\n        \"description\": \"\"\n      }\n    },\n    {\n      \"column\": \"ORGANIZATIONS\",\n      \"properties\": {\n        \"dtype\": \"category\",\n        \"num_unique_values\": 11311,\n        \"samples\": [\n          \"Mexzborough Times Co\",\n          \"Bury Guardian Co . ( Ltd . )\",\n          \"Ingamells and Beaulah\"\n        ],\n        \"semantic_type\": \"\",\n        \"description\": \"\"\n      }\n    },\n    {\n      \"column\": \"PLACE_PUB\",\n      \"properties\": {\n        \"dtype\": \"category\",\n        \"num_unique_values\": 1120,\n        \"samples\": [\n          \"macclesfield\",\n          \"campbeltown\",\n          \"blaenau festiniog\"\n        ],\n        \"semantic_type\": \"\",\n        \"description\": \"\"\n      }\n    },\n    {\n      \"column\": \"PLACE_PUB_WIKI\",\n      \"properties\": {\n        \"dtype\": \"category\",\n        \"num_unique_values\": 1100,\n        \"samples\": [\n          \"Q2078535\",\n          \"Q1024900\",\n          \"Q20888153\"\n        ],\n        \"semantic_type\": \"\",\n        \"description\": \"\"\n      }\n    },\n    {\n      \"column\": \"PLACE_PUB_COORD\",\n      \"properties\": {\n        \"dtype\": \"category\",\n        \"num_unique_values\": 1103,\n        \"samples\": [\n          \"(53.6801, -1.492)\",\n          \"(51.02413, -3.25876)\",\n          \"(51.4311, -0.0245)\"\n        ],\n        \"semantic_type\": \"\",\n        \"description\": \"\"\n      }\n    },\n    {\n      \"column\": \"PLACES\",\n      \"properties\": {\n        \"dtype\": \"category\",\n        \"num_unique_values\": 33059,\n        \"samples\": [\n          \"Cart<SEP>Clydesdale Horse<SEP>La Belle Sauvage Yard , Ludgate Hill , E . C .\",\n          \"Waterford<SEP>Wexford<SEP>Kilkenn<SEP>Tipperary<SEP>Limerick<SEP>Cork<SEP>England<SEP>Scotland<SEP>America\",\n          \" ng Lane<SEP>New York Liverpool<SEP>Bristol<SEP>Greenosk<SEP>Cork Eastcheap Buildings ( corner of Philpot Lane ) , E . C .\"\n        ],\n        \"semantic_type\": \"\",\n        \"description\": \"\"\n      }\n    },\n    {\n      \"column\": \"PLACES_TRES\",\n      \"properties\": {\n        \"dtype\": \"category\",\n        \"num_unique_values\": 29359,\n        \"samples\": [\n          \"[{'mention': 'Peterborough', 'pos': 29, 'sent_idx': 0, 'end_pos': 41, 'tag': 'LOC', 'prediction': 'Q172438', 'ed_score': 0.006, 'latlon': [52.583333, -0.25], 'wkdt_class': 'Q515'}, {'mention': 'Huntingdonshire', 'pos': 43, 'sent_idx': 0, 'end_pos': 58, 'tag': 'LOC', 'prediction': 'Q23330', 'ed_score': 0.006, 'latlon': [52.416667, -0.25], 'wkdt_class': 'Q1187580'}, {'mention': 'Northampton - shire', 'pos': 60, 'sent_idx': 0, 'end_pos': 79, 'tag': 'LOC', 'prediction': 'Q23115', 'ed_score': 0.005, 'latlon': [52.283333, -0.833333], 'wkdt_class': 'Q180673'}, {'mention': 'Cambridgeshire', 'pos': 81, 'sent_idx': 0, 'end_pos': 95, 'tag': 'LOC', 'prediction': 'Q23112', 'ed_score': 0.005, 'latlon': [52.333333333333, 0.0], 'wkdt_class': 'Q180673'}, {'mention': 'Lincolnshire', 'pos': 97, 'sent_idx': 0, 'end_pos': 109, 'tag': 'LOC', 'prediction': 'Q23090', 'ed_score': 0.006, 'latlon': [53.066667, -0.183333], 'wkdt_class': 'Q180673'}, {'mention': 'Rutland', 'pos': 111, 'sent_idx': 0, 'end_pos': 118, 'tag': 'LOC', 'prediction': 'Q23107', 'ed_score': 0.005, 'latlon': [52.65, -0.633333], 'wkdt_class': 'Q180673'}, {'mention': 'Peterborough', 'pos': 120, 'sent_idx': 0, 'end_pos': 132, 'tag': 'LOC', 'prediction': 'Q172438', 'ed_score': 0.006, 'latlon': [52.583333, -0.25], 'wkdt_class': 'Q515'}, {'mention': 'North Hunts', 'pos': 134, 'sent_idx': 0, 'end_pos': 145, 'tag': 'LOC', 'prediction': 'NIL', 'ed_score': 0.0, 'latlon': None, 'wkdt_class': None}, {'mention': 'North Cambs', 'pos': 147, 'sent_idx': 0, 'end_pos': 158, 'tag': 'LOC', 'prediction': 'Q327168', 'ed_score': 0.007, 'latlon': [52.821389, 1.386111], 'wkdt_class': 'Q3957'}, {'mention': 'Hunts', 'pos': 160, 'sent_idx': 0, 'end_pos': 165, 'tag': 'LOC', 'prediction': 'Q23330', 'ed_score': 0.007, 'latlon': [52.416667, -0.25], 'wkdt_class': 'Q1187580'}]\",\n          \"[{'mention': 'Forres', 'pos': 29, 'sent_idx': 0, 'end_pos': 35, 'tag': 'LOC', 'prediction': 'Q1010531', 'ed_score': 0.006, 'latlon': [57.60859, -3.6157], 'wkdt_class': 'Q3957'}, {'mention': 'Elgin', 'pos': 37, 'sent_idx': 0, 'end_pos': 42, 'tag': 'LOC', 'prediction': 'Q841074', 'ed_score': 0.006, 'latlon': [57.646389, -3.315278], 'wkdt_class': 'Q3957'}, {'mention': 'Moray', 'pos': 44, 'sent_idx': 0, 'end_pos': 49, 'tag': 'LOC', 'prediction': 'Q211106', 'ed_score': 0.004, 'latlon': [57.416667, -3.25], 'wkdt_class': 'Q21457810'}, {'mention': 'Nairn', 'pos': 51, 'sent_idx': 0, 'end_pos': 56, 'tag': 'LOC', 'prediction': 'Q980084', 'ed_score': 0.006, 'latlon': [57.583333, -3.866667], 'wkdt_class': 'Q3957'}]\",\n          \"[{'mention': 'Newbury', 'pos': 29, 'sent_idx': 0, 'end_pos': 36, 'tag': 'LOC', 'prediction': 'Q655874', 'ed_score': 0.005, 'latlon': [51.4009, -1.3235], 'wkdt_class': 'Q3957'}, {'mention': 'Hungerford', 'pos': 38, 'sent_idx': 0, 'end_pos': 48, 'tag': 'LOC', 'prediction': 'Q1637841', 'ed_score': 0.006, 'latlon': [51.4144, -1.5146], 'wkdt_class': 'Q3957'}, {'mention': 'Kintbury', 'pos': 50, 'sent_idx': 0, 'end_pos': 58, 'tag': 'LOC', 'prediction': 'Q2749964', 'ed_score': 0.006, 'latlon': [51.399, -1.449], 'wkdt_class': 'Q532'}, {'mention': 'Thatcham', 'pos': 60, 'sent_idx': 0, 'end_pos': 68, 'tag': 'LOC', 'prediction': 'Q1026304', 'ed_score': 0.006, 'latlon': [51.405, -1.2645], 'wkdt_class': 'Q3957'}, {'mention': 'Reading', 'pos': 70, 'sent_idx': 0, 'end_pos': 77, 'tag': 'LOC', 'prediction': 'Q161491', 'ed_score': 0.004, 'latlon': [51.454167, -0.973056], 'wkdt_class': 'Q1357964'}, {'mention': 'Midgham', 'pos': 79, 'sent_idx': 0, 'end_pos': 86, 'tag': 'LOC', 'prediction': 'Q986140', 'ed_score': 0.006, 'latlon': [51.401, -1.203], 'wkdt_class': 'Q532'}, {'mention': 'Chieveley', 'pos': 88, 'sent_idx': 0, 'end_pos': 97, 'tag': 'LOC', 'prediction': 'Q4027640', 'ed_score': 0.006, 'latlon': [51.461, -1.319], 'wkdt_class': 'Q532'}, {'mention': 'Hampstead', 'pos': 99, 'sent_idx': 0, 'end_pos': 108, 'tag': 'LOC', 'prediction': 'Q25610', 'ed_score': 0.003, 'latlon': [51.5541, -0.1744], 'wkdt_class': 'Q3957'}, {'mention': 'Hermitage', 'pos': 117, 'sent_idx': 0, 'end_pos': 126, 'tag': 'LOC', 'prediction': 'Q1813871', 'ed_score': 0.003, 'latlon': [51.452536, -1.276217], 'wkdt_class': 'Q532'}, {'mention': 'Iisley', 'pos': 128, 'sent_idx': 0, 'end_pos': 134, 'tag': 'LOC', 'prediction': 'Q2287225', 'ed_score': 0.004, 'latlon': [51.3227, -0.4772], 'wkdt_class': 'Q532'}, {'mention': 'Inkpen', 'pos': 136, 'sent_idx': 0, 'end_pos': 142, 'tag': 'LOC', 'prediction': 'Q1864651', 'ed_score': 0.006, 'latlon': [51.377, -1.468], 'wkdt_class': 'Q532'}, {'mention': 'Kingsclere', 'pos': 144, 'sent_idx': 0, 'end_pos': 154, 'tag': 'LOC', 'prediction': 'Q1215907', 'ed_score': 0.006, 'latlon': [51.326, -1.2442], 'wkdt_class': 'Q532'}, {'mention': 'Lambourne', 'pos': 156, 'sent_idx': 0, 'end_pos': 165, 'tag': 'LOC', 'prediction': 'Q1611963', 'ed_score': 0.006, 'latlon': [51.638, 0.13], 'wkdt_class': 'Q532'}, {'mention': 'Newbury', 'pos': 167, 'sent_idx': 0, 'end_pos': 174, 'tag': 'LOC', 'prediction': 'Q655874', 'ed_score': 0.005, 'latlon': [51.4009, -1.3235], 'wkdt_class': 'Q3957'}]\"\n        ],\n        \"semantic_type\": \"\",\n        \"description\": \"\"\n      }\n    },\n    {\n      \"column\": \"TEXT\",\n      \"properties\": {\n        \"dtype\": \"string\",\n        \"num_unique_values\": 89249,\n        \"samples\": [\n          \"FARNWORTH OBSERVER . Saturday , 1d . and 2d . Liberal . \\u2014 Established May 5 , 1860 . Circulates in Farnworth , Kessloy , Little Lever , Ringley , Outwood , Radcliffe , Walkden , Over Hulton , Little Hulton , Swinton , Pendlebury , Itlam's-o'th '- Heigbt , Bolton , Davey Lever , Great Lever , Cliftor , Worsley , & c . nent Agents , Red Lion Coxi ' , Flocl Sir . ci , Loadan . ] Tm One of the many local papers established of late years , and devoted to the interests of the district in which they are published . It does not unduly favour one sect or party at the expense of another ; but progress in all matters , social and political , is advocated . Proprietor \\u2014 James Hall . ( Advt . , p . 147 .\",\n          \"FIFE NEWS . Saturday , 1d . Independent-Liberal . \\u2014 Established March , 1870 . Circulates in the counties of Fife and Kinross . It gives a careful selection of the news of the week , and full reports of local mesetings , while a full page is set apart for serial stories and literary sketches . Special editions are pub - lished for Dunfermline , Kirkcaldy , Cupar , St . Andrews , and Anstruther . It upholds the claims of the working classes to a fair consideration . Proprietor \\u2014 Robert Tullis . ( Advt . , p . 205 . )\",\n          \"ENGINEERING . Friday , 6d . Established Jan . , 1866 . I Principles : Neufral . This is entirely devoted to engineering in all its branches . The latest inventions are reported on and illustrated . Articles on important subjects connected with the profession appear in its pages , and the latest information is given on all important engineering works in progress , and , in short , all subjects connected with civil and mechanical engineering . Fublished by C . Gilbert , 37 , Bedford Street , W . C .\"\n        ],\n        \"semantic_type\": \"\",\n        \"description\": \"\"\n      }\n    }\n  ]\n}"
            }
          },
          "metadata": {},
          "execution_count": 5
        }
      ]
    },
    {
      "cell_type": "code",
      "source": [
        "# random sample of 2 rows\n",
        "df.sample(2)"
      ],
      "metadata": {
        "id": "Ta3Le93tpz1a",
        "outputId": "60d227ba-f8bc-41c2-c214-860b3695648a",
        "colab": {
          "base_uri": "https://localhost:8080/",
          "height": 306
        }
      },
      "execution_count": 6,
      "outputs": [
        {
          "output_type": "execute_result",
          "data": {
            "text/plain": [
              "                  ID    CHAIN_ID  YEAR  \\\n",
              "48632  MPD_1881_1492  CID_001575  1881   \n",
              "51873  MPD_1877_1148  CID_001767  1877   \n",
              "\n",
              "                                                   TITLE PRICE     POLITICS  \\\n",
              "48632            LLANDUDNO DIRECTORY AND CRONICL CYMRU .    2d  independent   \n",
              "51873  WALSALL OBSERVER & SOUTH STAFFORD - SHIRE CHRO...    1d  independent   \n",
              "\n",
              "      ESTABLISHED_DATE PUBLISED_DATE            PERSONS         ORGANIZATIONS  \\\n",
              "48632             1854      Saturday                     Douglas<SEP>Brothers   \n",
              "51873   October , 1868      Saturday  J. and W. Griffin                         \n",
              "\n",
              "       PLACE_PUB PLACE_PUB_WIKI PLACE_PUB_COORD  \\\n",
              "48632  llandudno        Q996492  (53.32, -3.82)   \n",
              "51873    walsall        Q504530  (52.58, -1.98)   \n",
              "\n",
              "                                                  PLACES  \\\n",
              "48632                                          Llandudno   \n",
              "51873  Walsall<SEP>Lichfield<SEP>Hednesford<SEP>Brown...   \n",
              "\n",
              "                                             PLACES_TRES  \\\n",
              "48632  [{'mention': 'Llandudno', 'pos': 29, 'sent_idx...   \n",
              "51873  [{'mention': 'Walsall', 'pos': 29, 'sent_idx':...   \n",
              "\n",
              "                                                    TEXT  \n",
              "48632  LLANDUDNO DIRECTORY AND CRONICL CYMRU . I Satu...  \n",
              "51873  WALSALL OBSERVER & SOUTH STAFFORD - SHIRE CHRO...  "
            ],
            "text/html": [
              "\n",
              "  <div id=\"df-196f0169-3a14-4f5c-958c-d63af68f4644\" class=\"colab-df-container\">\n",
              "    <div>\n",
              "<style scoped>\n",
              "    .dataframe tbody tr th:only-of-type {\n",
              "        vertical-align: middle;\n",
              "    }\n",
              "\n",
              "    .dataframe tbody tr th {\n",
              "        vertical-align: top;\n",
              "    }\n",
              "\n",
              "    .dataframe thead th {\n",
              "        text-align: right;\n",
              "    }\n",
              "</style>\n",
              "<table border=\"1\" class=\"dataframe\">\n",
              "  <thead>\n",
              "    <tr style=\"text-align: right;\">\n",
              "      <th></th>\n",
              "      <th>ID</th>\n",
              "      <th>CHAIN_ID</th>\n",
              "      <th>YEAR</th>\n",
              "      <th>TITLE</th>\n",
              "      <th>PRICE</th>\n",
              "      <th>POLITICS</th>\n",
              "      <th>ESTABLISHED_DATE</th>\n",
              "      <th>PUBLISED_DATE</th>\n",
              "      <th>PERSONS</th>\n",
              "      <th>ORGANIZATIONS</th>\n",
              "      <th>PLACE_PUB</th>\n",
              "      <th>PLACE_PUB_WIKI</th>\n",
              "      <th>PLACE_PUB_COORD</th>\n",
              "      <th>PLACES</th>\n",
              "      <th>PLACES_TRES</th>\n",
              "      <th>TEXT</th>\n",
              "    </tr>\n",
              "  </thead>\n",
              "  <tbody>\n",
              "    <tr>\n",
              "      <th>48632</th>\n",
              "      <td>MPD_1881_1492</td>\n",
              "      <td>CID_001575</td>\n",
              "      <td>1881</td>\n",
              "      <td>LLANDUDNO DIRECTORY AND CRONICL CYMRU .</td>\n",
              "      <td>2d</td>\n",
              "      <td>independent</td>\n",
              "      <td>1854</td>\n",
              "      <td>Saturday</td>\n",
              "      <td></td>\n",
              "      <td>Douglas&lt;SEP&gt;Brothers</td>\n",
              "      <td>llandudno</td>\n",
              "      <td>Q996492</td>\n",
              "      <td>(53.32, -3.82)</td>\n",
              "      <td>Llandudno</td>\n",
              "      <td>[{'mention': 'Llandudno', 'pos': 29, 'sent_idx...</td>\n",
              "      <td>LLANDUDNO DIRECTORY AND CRONICL CYMRU . I Satu...</td>\n",
              "    </tr>\n",
              "    <tr>\n",
              "      <th>51873</th>\n",
              "      <td>MPD_1877_1148</td>\n",
              "      <td>CID_001767</td>\n",
              "      <td>1877</td>\n",
              "      <td>WALSALL OBSERVER &amp; SOUTH STAFFORD - SHIRE CHRO...</td>\n",
              "      <td>1d</td>\n",
              "      <td>independent</td>\n",
              "      <td>October , 1868</td>\n",
              "      <td>Saturday</td>\n",
              "      <td>J. and W. Griffin</td>\n",
              "      <td></td>\n",
              "      <td>walsall</td>\n",
              "      <td>Q504530</td>\n",
              "      <td>(52.58, -1.98)</td>\n",
              "      <td>Walsall&lt;SEP&gt;Lichfield&lt;SEP&gt;Hednesford&lt;SEP&gt;Brown...</td>\n",
              "      <td>[{'mention': 'Walsall', 'pos': 29, 'sent_idx':...</td>\n",
              "      <td>WALSALL OBSERVER &amp; SOUTH STAFFORD - SHIRE CHRO...</td>\n",
              "    </tr>\n",
              "  </tbody>\n",
              "</table>\n",
              "</div>\n",
              "    <div class=\"colab-df-buttons\">\n",
              "\n",
              "  <div class=\"colab-df-container\">\n",
              "    <button class=\"colab-df-convert\" onclick=\"convertToInteractive('df-196f0169-3a14-4f5c-958c-d63af68f4644')\"\n",
              "            title=\"Convert this dataframe to an interactive table.\"\n",
              "            style=\"display:none;\">\n",
              "\n",
              "  <svg xmlns=\"http://www.w3.org/2000/svg\" height=\"24px\" viewBox=\"0 -960 960 960\">\n",
              "    <path d=\"M120-120v-720h720v720H120Zm60-500h600v-160H180v160Zm220 220h160v-160H400v160Zm0 220h160v-160H400v160ZM180-400h160v-160H180v160Zm440 0h160v-160H620v160ZM180-180h160v-160H180v160Zm440 0h160v-160H620v160Z\"/>\n",
              "  </svg>\n",
              "    </button>\n",
              "\n",
              "  <style>\n",
              "    .colab-df-container {\n",
              "      display:flex;\n",
              "      gap: 12px;\n",
              "    }\n",
              "\n",
              "    .colab-df-convert {\n",
              "      background-color: #E8F0FE;\n",
              "      border: none;\n",
              "      border-radius: 50%;\n",
              "      cursor: pointer;\n",
              "      display: none;\n",
              "      fill: #1967D2;\n",
              "      height: 32px;\n",
              "      padding: 0 0 0 0;\n",
              "      width: 32px;\n",
              "    }\n",
              "\n",
              "    .colab-df-convert:hover {\n",
              "      background-color: #E2EBFA;\n",
              "      box-shadow: 0px 1px 2px rgba(60, 64, 67, 0.3), 0px 1px 3px 1px rgba(60, 64, 67, 0.15);\n",
              "      fill: #174EA6;\n",
              "    }\n",
              "\n",
              "    .colab-df-buttons div {\n",
              "      margin-bottom: 4px;\n",
              "    }\n",
              "\n",
              "    [theme=dark] .colab-df-convert {\n",
              "      background-color: #3B4455;\n",
              "      fill: #D2E3FC;\n",
              "    }\n",
              "\n",
              "    [theme=dark] .colab-df-convert:hover {\n",
              "      background-color: #434B5C;\n",
              "      box-shadow: 0px 1px 3px 1px rgba(0, 0, 0, 0.15);\n",
              "      filter: drop-shadow(0px 1px 2px rgba(0, 0, 0, 0.3));\n",
              "      fill: #FFFFFF;\n",
              "    }\n",
              "  </style>\n",
              "\n",
              "    <script>\n",
              "      const buttonEl =\n",
              "        document.querySelector('#df-196f0169-3a14-4f5c-958c-d63af68f4644 button.colab-df-convert');\n",
              "      buttonEl.style.display =\n",
              "        google.colab.kernel.accessAllowed ? 'block' : 'none';\n",
              "\n",
              "      async function convertToInteractive(key) {\n",
              "        const element = document.querySelector('#df-196f0169-3a14-4f5c-958c-d63af68f4644');\n",
              "        const dataTable =\n",
              "          await google.colab.kernel.invokeFunction('convertToInteractive',\n",
              "                                                    [key], {});\n",
              "        if (!dataTable) return;\n",
              "\n",
              "        const docLinkHtml = 'Like what you see? Visit the ' +\n",
              "          '<a target=\"_blank\" href=https://colab.research.google.com/notebooks/data_table.ipynb>data table notebook</a>'\n",
              "          + ' to learn more about interactive tables.';\n",
              "        element.innerHTML = '';\n",
              "        dataTable['output_type'] = 'display_data';\n",
              "        await google.colab.output.renderOutput(dataTable, element);\n",
              "        const docLink = document.createElement('div');\n",
              "        docLink.innerHTML = docLinkHtml;\n",
              "        element.appendChild(docLink);\n",
              "      }\n",
              "    </script>\n",
              "  </div>\n",
              "\n",
              "\n",
              "<div id=\"df-2ec791f3-549b-4c2f-a9fd-fc488570e13a\">\n",
              "  <button class=\"colab-df-quickchart\" onclick=\"quickchart('df-2ec791f3-549b-4c2f-a9fd-fc488570e13a')\"\n",
              "            title=\"Suggest charts\"\n",
              "            style=\"display:none;\">\n",
              "\n",
              "<svg xmlns=\"http://www.w3.org/2000/svg\" height=\"24px\"viewBox=\"0 0 24 24\"\n",
              "     width=\"24px\">\n",
              "    <g>\n",
              "        <path d=\"M19 3H5c-1.1 0-2 .9-2 2v14c0 1.1.9 2 2 2h14c1.1 0 2-.9 2-2V5c0-1.1-.9-2-2-2zM9 17H7v-7h2v7zm4 0h-2V7h2v10zm4 0h-2v-4h2v4z\"/>\n",
              "    </g>\n",
              "</svg>\n",
              "  </button>\n",
              "\n",
              "<style>\n",
              "  .colab-df-quickchart {\n",
              "      --bg-color: #E8F0FE;\n",
              "      --fill-color: #1967D2;\n",
              "      --hover-bg-color: #E2EBFA;\n",
              "      --hover-fill-color: #174EA6;\n",
              "      --disabled-fill-color: #AAA;\n",
              "      --disabled-bg-color: #DDD;\n",
              "  }\n",
              "\n",
              "  [theme=dark] .colab-df-quickchart {\n",
              "      --bg-color: #3B4455;\n",
              "      --fill-color: #D2E3FC;\n",
              "      --hover-bg-color: #434B5C;\n",
              "      --hover-fill-color: #FFFFFF;\n",
              "      --disabled-bg-color: #3B4455;\n",
              "      --disabled-fill-color: #666;\n",
              "  }\n",
              "\n",
              "  .colab-df-quickchart {\n",
              "    background-color: var(--bg-color);\n",
              "    border: none;\n",
              "    border-radius: 50%;\n",
              "    cursor: pointer;\n",
              "    display: none;\n",
              "    fill: var(--fill-color);\n",
              "    height: 32px;\n",
              "    padding: 0;\n",
              "    width: 32px;\n",
              "  }\n",
              "\n",
              "  .colab-df-quickchart:hover {\n",
              "    background-color: var(--hover-bg-color);\n",
              "    box-shadow: 0 1px 2px rgba(60, 64, 67, 0.3), 0 1px 3px 1px rgba(60, 64, 67, 0.15);\n",
              "    fill: var(--button-hover-fill-color);\n",
              "  }\n",
              "\n",
              "  .colab-df-quickchart-complete:disabled,\n",
              "  .colab-df-quickchart-complete:disabled:hover {\n",
              "    background-color: var(--disabled-bg-color);\n",
              "    fill: var(--disabled-fill-color);\n",
              "    box-shadow: none;\n",
              "  }\n",
              "\n",
              "  .colab-df-spinner {\n",
              "    border: 2px solid var(--fill-color);\n",
              "    border-color: transparent;\n",
              "    border-bottom-color: var(--fill-color);\n",
              "    animation:\n",
              "      spin 1s steps(1) infinite;\n",
              "  }\n",
              "\n",
              "  @keyframes spin {\n",
              "    0% {\n",
              "      border-color: transparent;\n",
              "      border-bottom-color: var(--fill-color);\n",
              "      border-left-color: var(--fill-color);\n",
              "    }\n",
              "    20% {\n",
              "      border-color: transparent;\n",
              "      border-left-color: var(--fill-color);\n",
              "      border-top-color: var(--fill-color);\n",
              "    }\n",
              "    30% {\n",
              "      border-color: transparent;\n",
              "      border-left-color: var(--fill-color);\n",
              "      border-top-color: var(--fill-color);\n",
              "      border-right-color: var(--fill-color);\n",
              "    }\n",
              "    40% {\n",
              "      border-color: transparent;\n",
              "      border-right-color: var(--fill-color);\n",
              "      border-top-color: var(--fill-color);\n",
              "    }\n",
              "    60% {\n",
              "      border-color: transparent;\n",
              "      border-right-color: var(--fill-color);\n",
              "    }\n",
              "    80% {\n",
              "      border-color: transparent;\n",
              "      border-right-color: var(--fill-color);\n",
              "      border-bottom-color: var(--fill-color);\n",
              "    }\n",
              "    90% {\n",
              "      border-color: transparent;\n",
              "      border-bottom-color: var(--fill-color);\n",
              "    }\n",
              "  }\n",
              "</style>\n",
              "\n",
              "  <script>\n",
              "    async function quickchart(key) {\n",
              "      const quickchartButtonEl =\n",
              "        document.querySelector('#' + key + ' button');\n",
              "      quickchartButtonEl.disabled = true;  // To prevent multiple clicks.\n",
              "      quickchartButtonEl.classList.add('colab-df-spinner');\n",
              "      try {\n",
              "        const charts = await google.colab.kernel.invokeFunction(\n",
              "            'suggestCharts', [key], {});\n",
              "      } catch (error) {\n",
              "        console.error('Error during call to suggestCharts:', error);\n",
              "      }\n",
              "      quickchartButtonEl.classList.remove('colab-df-spinner');\n",
              "      quickchartButtonEl.classList.add('colab-df-quickchart-complete');\n",
              "    }\n",
              "    (() => {\n",
              "      let quickchartButtonEl =\n",
              "        document.querySelector('#df-2ec791f3-549b-4c2f-a9fd-fc488570e13a button');\n",
              "      quickchartButtonEl.style.display =\n",
              "        google.colab.kernel.accessAllowed ? 'block' : 'none';\n",
              "    })();\n",
              "  </script>\n",
              "</div>\n",
              "\n",
              "    </div>\n",
              "  </div>\n"
            ],
            "application/vnd.google.colaboratory.intrinsic+json": {
              "type": "dataframe",
              "summary": "{\n  \"name\": \"df\",\n  \"rows\": 2,\n  \"fields\": [\n    {\n      \"column\": \"ID\",\n      \"properties\": {\n        \"dtype\": \"string\",\n        \"num_unique_values\": 2,\n        \"samples\": [\n          \"MPD_1877_1148\",\n          \"MPD_1881_1492\"\n        ],\n        \"semantic_type\": \"\",\n        \"description\": \"\"\n      }\n    },\n    {\n      \"column\": \"CHAIN_ID\",\n      \"properties\": {\n        \"dtype\": \"string\",\n        \"num_unique_values\": 2,\n        \"samples\": [\n          \"CID_001767\",\n          \"CID_001575\"\n        ],\n        \"semantic_type\": \"\",\n        \"description\": \"\"\n      }\n    },\n    {\n      \"column\": \"YEAR\",\n      \"properties\": {\n        \"dtype\": \"number\",\n        \"std\": 2,\n        \"min\": 1877,\n        \"max\": 1881,\n        \"num_unique_values\": 2,\n        \"samples\": [\n          1877,\n          1881\n        ],\n        \"semantic_type\": \"\",\n        \"description\": \"\"\n      }\n    },\n    {\n      \"column\": \"TITLE\",\n      \"properties\": {\n        \"dtype\": \"string\",\n        \"num_unique_values\": 2,\n        \"samples\": [\n          \"WALSALL OBSERVER & SOUTH STAFFORD - SHIRE CHRONICLE .\",\n          \"LLANDUDNO DIRECTORY AND CRONICL CYMRU .\"\n        ],\n        \"semantic_type\": \"\",\n        \"description\": \"\"\n      }\n    },\n    {\n      \"column\": \"PRICE\",\n      \"properties\": {\n        \"dtype\": \"string\",\n        \"num_unique_values\": 2,\n        \"samples\": [\n          \"1d\",\n          \"2d\"\n        ],\n        \"semantic_type\": \"\",\n        \"description\": \"\"\n      }\n    },\n    {\n      \"column\": \"POLITICS\",\n      \"properties\": {\n        \"dtype\": \"string\",\n        \"num_unique_values\": 1,\n        \"samples\": [\n          \"independent\"\n        ],\n        \"semantic_type\": \"\",\n        \"description\": \"\"\n      }\n    },\n    {\n      \"column\": \"ESTABLISHED_DATE\",\n      \"properties\": {\n        \"dtype\": \"string\",\n        \"num_unique_values\": 2,\n        \"samples\": [\n          \"October , 1868\"\n        ],\n        \"semantic_type\": \"\",\n        \"description\": \"\"\n      }\n    },\n    {\n      \"column\": \"PUBLISED_DATE\",\n      \"properties\": {\n        \"dtype\": \"string\",\n        \"num_unique_values\": 1,\n        \"samples\": [\n          \"Saturday\"\n        ],\n        \"semantic_type\": \"\",\n        \"description\": \"\"\n      }\n    },\n    {\n      \"column\": \"PERSONS\",\n      \"properties\": {\n        \"dtype\": \"string\",\n        \"num_unique_values\": 2,\n        \"samples\": [\n          \"J. and W. Griffin\"\n        ],\n        \"semantic_type\": \"\",\n        \"description\": \"\"\n      }\n    },\n    {\n      \"column\": \"ORGANIZATIONS\",\n      \"properties\": {\n        \"dtype\": \"string\",\n        \"num_unique_values\": 2,\n        \"samples\": [\n          \"\"\n        ],\n        \"semantic_type\": \"\",\n        \"description\": \"\"\n      }\n    },\n    {\n      \"column\": \"PLACE_PUB\",\n      \"properties\": {\n        \"dtype\": \"string\",\n        \"num_unique_values\": 2,\n        \"samples\": [\n          \"walsall\"\n        ],\n        \"semantic_type\": \"\",\n        \"description\": \"\"\n      }\n    },\n    {\n      \"column\": \"PLACE_PUB_WIKI\",\n      \"properties\": {\n        \"dtype\": \"string\",\n        \"num_unique_values\": 2,\n        \"samples\": [\n          \"Q504530\"\n        ],\n        \"semantic_type\": \"\",\n        \"description\": \"\"\n      }\n    },\n    {\n      \"column\": \"PLACE_PUB_COORD\",\n      \"properties\": {\n        \"dtype\": \"string\",\n        \"num_unique_values\": 2,\n        \"samples\": [\n          \"(52.58, -1.98)\"\n        ],\n        \"semantic_type\": \"\",\n        \"description\": \"\"\n      }\n    },\n    {\n      \"column\": \"PLACES\",\n      \"properties\": {\n        \"dtype\": \"string\",\n        \"num_unique_values\": 2,\n        \"samples\": [\n          \"Walsall<SEP>Lichfield<SEP>Hednesford<SEP>Brownbills<SEP>Pelsall<SEP>Cannock<SEP>South Staffordshire\"\n        ],\n        \"semantic_type\": \"\",\n        \"description\": \"\"\n      }\n    },\n    {\n      \"column\": \"PLACES_TRES\",\n      \"properties\": {\n        \"dtype\": \"string\",\n        \"num_unique_values\": 2,\n        \"samples\": [\n          \"[{'mention': 'Walsall', 'pos': 29, 'sent_idx': 0, 'end_pos': 36, 'tag': 'LOC', 'prediction': 'Q504530', 'ed_score': 0.006, 'latlon': [52.58, -1.98], 'wkdt_class': 'Q3957'}, {'mention': 'Lichfield', 'pos': 38, 'sent_idx': 0, 'end_pos': 47, 'tag': 'LOC', 'prediction': 'Q207371', 'ed_score': 0.004, 'latlon': [52.6835, -1.82653], 'wkdt_class': 'Q1115575'}, {'mention': 'Hednesford', 'pos': 49, 'sent_idx': 0, 'end_pos': 59, 'tag': 'LOC', 'prediction': 'Q2132464', 'ed_score': 0.006, 'latlon': [52.7115, -2.0006], 'wkdt_class': 'Q3957'}, {'mention': 'Brownbills', 'pos': 61, 'sent_idx': 0, 'end_pos': 71, 'tag': 'LOC', 'prediction': 'Q730103', 'ed_score': 0.006, 'latlon': [52.647, -1.933], 'wkdt_class': 'Q3957'}, {'mention': 'Pelsall', 'pos': 73, 'sent_idx': 0, 'end_pos': 80, 'tag': 'LOC', 'prediction': 'Q7161724', 'ed_score': 0.006, 'latlon': [52.6167, -1.95], 'wkdt_class': 'Q3957'}, {'mention': 'Cannock', 'pos': 82, 'sent_idx': 0, 'end_pos': 89, 'tag': 'LOC', 'prediction': 'Q992665', 'ed_score': 0.006, 'latlon': [52.688, -2.029], 'wkdt_class': 'Q3957'}, {'mention': 'South Staffordshire', 'pos': 91, 'sent_idx': 0, 'end_pos': 110, 'tag': 'LOC', 'prediction': 'Q2116379', 'ed_score': 0.005, 'latlon': [52.6258, -2.1918], 'wkdt_class': 'Q1187580'}]\"\n        ],\n        \"semantic_type\": \"\",\n        \"description\": \"\"\n      }\n    },\n    {\n      \"column\": \"TEXT\",\n      \"properties\": {\n        \"dtype\": \"string\",\n        \"num_unique_values\": 2,\n        \"samples\": [\n          \"WALSALL OBSERVER & SOUTH STAFFORD - SHIRE CHRONICLE . Saturday , 1d . Independent . \\u2014 Established October , 1868 . Circulates in Walsall , Lichfield , Hednesford , Brownbills , Pelsall , Cannock , and throughout South Staffordshire . Gives the fullest reports of local news throughout the distrizt . Proprietors \\u2014 J . and W . Griffin .\"\n        ],\n        \"semantic_type\": \"\",\n        \"description\": \"\"\n      }\n    }\n  ]\n}"
            }
          },
          "metadata": {},
          "execution_count": 6
        }
      ]
    },
    {
      "cell_type": "code",
      "source": [
        "# show all the column names\n",
        "df.columns"
      ],
      "metadata": {
        "id": "tLiN0zJ4AGAP",
        "outputId": "a8071c43-2ff3-4fd4-bb41-f27ade9e62a3",
        "colab": {
          "base_uri": "https://localhost:8080/"
        }
      },
      "execution_count": 7,
      "outputs": [
        {
          "output_type": "execute_result",
          "data": {
            "text/plain": [
              "Index(['ID', 'CHAIN_ID', 'YEAR', 'TITLE', 'PRICE', 'POLITICS',\n",
              "       'ESTABLISHED_DATE', 'PUBLISED_DATE', 'PERSONS', 'ORGANIZATIONS',\n",
              "       'PLACE_PUB', 'PLACE_PUB_WIKI', 'PLACE_PUB_COORD', 'PLACES',\n",
              "       'PLACES_TRES', 'TEXT'],\n",
              "      dtype='object')"
            ]
          },
          "metadata": {},
          "execution_count": 7
        }
      ]
    },
    {
      "cell_type": "markdown",
      "source": [
        "### Case Study 1: How old is the average newspaper title?\n",
        "\n",
        "**Question**: How 'old' is the average newspaper title? How does this change over time, place and by politics?\n",
        "\n",
        "**Sub-questions**:\n",
        "- What information do we need? remember `df.columns`)\n",
        "- Is the information all neatly processed and parsed?\n",
        "\n",
        "\n",
        "Run the code cell below to get a negative answer ;-)\n",
        "\n"
      ],
      "metadata": {
        "id": "Cym6BR69Tdiw"
      }
    },
    {
      "cell_type": "code",
      "source": [
        "# get all the unique values in the ESTABLISHED_DATE column\n",
        "df['ESTABLISHED_DATE'].unique()"
      ],
      "metadata": {
        "id": "qpRz0VaJAHm4",
        "outputId": "36a9e426-961f-4f4e-fc39-cffbe2c30479",
        "colab": {
          "base_uri": "https://localhost:8080/"
        }
      },
      "execution_count": 9,
      "outputs": [
        {
          "output_type": "execute_result",
          "data": {
            "text/plain": [
              "array(['January 28 , 1837', 'January 28 ; 1837', 'November , 1842', ...,\n",
              "       '1861<SEP>October , 1919', 'August 15 , 1898', 'Feb . 3 , 1917'],\n",
              "      dtype=object)"
            ]
          },
          "metadata": {},
          "execution_count": 9
        }
      ]
    },
    {
      "cell_type": "markdown",
      "source": [
        "Wait, wait, the 'ESTABLISHED_DATE' column contains **text not numbers** (or dates)."
      ],
      "metadata": {
        "id": "nUmPuV5Yu2nq"
      }
    },
    {
      "cell_type": "code",
      "source": [
        "print('value =',df.loc[0,'ESTABLISHED_DATE'])\n",
        "print('value type =',type(df.loc[0,'ESTABLISHED_DATE']))"
      ],
      "metadata": {
        "id": "hFiBniyquOQe",
        "outputId": "0cebc0ed-a848-4819-eac1-7ac649c3da01",
        "colab": {
          "base_uri": "https://localhost:8080/"
        }
      },
      "execution_count": 10,
      "outputs": [
        {
          "output_type": "stream",
          "name": "stdout",
          "text": [
            "value = January 28 , 1837\n",
            "value type = <class 'str'>\n"
          ]
        }
      ]
    },
    {
      "cell_type": "code",
      "source": [
        "# get the value counts and select the top ten\n",
        "df['ESTABLISHED_DATE'].value_counts()[:10]"
      ],
      "metadata": {
        "id": "etzyoZwnYqdF",
        "outputId": "c53f3cc2-c837-4c2e-fa26-40ce47027d5e",
        "colab": {
          "base_uri": "https://localhost:8080/",
          "height": 429
        }
      },
      "execution_count": 11,
      "outputs": [
        {
          "output_type": "execute_result",
          "data": {
            "text/plain": [
              "ESTABLISHED_DATE\n",
              "        5130\n",
              "1855    2265\n",
              "1857    1386\n",
              "1856    1200\n",
              "1860    1137\n",
              "1868    1054\n",
              "1880    1045\n",
              "1859    1038\n",
              "1858    1002\n",
              "1870     993\n",
              "Name: count, dtype: int64"
            ],
            "text/html": [
              "<div>\n",
              "<style scoped>\n",
              "    .dataframe tbody tr th:only-of-type {\n",
              "        vertical-align: middle;\n",
              "    }\n",
              "\n",
              "    .dataframe tbody tr th {\n",
              "        vertical-align: top;\n",
              "    }\n",
              "\n",
              "    .dataframe thead th {\n",
              "        text-align: right;\n",
              "    }\n",
              "</style>\n",
              "<table border=\"1\" class=\"dataframe\">\n",
              "  <thead>\n",
              "    <tr style=\"text-align: right;\">\n",
              "      <th></th>\n",
              "      <th>count</th>\n",
              "    </tr>\n",
              "    <tr>\n",
              "      <th>ESTABLISHED_DATE</th>\n",
              "      <th></th>\n",
              "    </tr>\n",
              "  </thead>\n",
              "  <tbody>\n",
              "    <tr>\n",
              "      <th></th>\n",
              "      <td>5130</td>\n",
              "    </tr>\n",
              "    <tr>\n",
              "      <th>1855</th>\n",
              "      <td>2265</td>\n",
              "    </tr>\n",
              "    <tr>\n",
              "      <th>1857</th>\n",
              "      <td>1386</td>\n",
              "    </tr>\n",
              "    <tr>\n",
              "      <th>1856</th>\n",
              "      <td>1200</td>\n",
              "    </tr>\n",
              "    <tr>\n",
              "      <th>1860</th>\n",
              "      <td>1137</td>\n",
              "    </tr>\n",
              "    <tr>\n",
              "      <th>1868</th>\n",
              "      <td>1054</td>\n",
              "    </tr>\n",
              "    <tr>\n",
              "      <th>1880</th>\n",
              "      <td>1045</td>\n",
              "    </tr>\n",
              "    <tr>\n",
              "      <th>1859</th>\n",
              "      <td>1038</td>\n",
              "    </tr>\n",
              "    <tr>\n",
              "      <th>1858</th>\n",
              "      <td>1002</td>\n",
              "    </tr>\n",
              "    <tr>\n",
              "      <th>1870</th>\n",
              "      <td>993</td>\n",
              "    </tr>\n",
              "  </tbody>\n",
              "</table>\n",
              "</div><br><label><b>dtype:</b> int64</label>"
            ]
          },
          "metadata": {},
          "execution_count": 11
        }
      ]
    },
    {
      "cell_type": "markdown",
      "source": [
        "#### Searching with regular expressions\n",
        "\n",
        "What to do? How can we convert these messy data to something we can work with?\n",
        "\n",
        "We can extract the year using regular expressions.\n",
        "This is a technique to create complex queries. We define a pattern that we want to find in our text data. In this case, we want to find all the years between 1700-1999.\n",
        "\n",
        "Therefore, we look for numbers consisting of four digits:\n",
        "- starting with 1\n",
        "- followed by a 7,8 or 9\n",
        "- and finishing with any combination of two digits"
      ],
      "metadata": {
        "id": "XlxweMd0FlWj"
      }
    },
    {
      "cell_type": "code",
      "source": [
        "# import the regular expression library\n",
        "import re\n",
        "# create the year matching pattern\n",
        "year_pattern = re.compile(r'\\b1[6-9][0-9]{2}\\b')"
      ],
      "metadata": {
        "id": "g3qfaX6_YnDX"
      },
      "execution_count": 21,
      "outputs": []
    },
    {
      "cell_type": "markdown",
      "source": [
        "Let's evaluate the regular expression pattern on an example string\n",
        "- Question 1: change the `test_string` below and test it yourself;\n",
        "- Question 2: can/should you change the regular expression?"
      ],
      "metadata": {
        "id": "e0jPobnDFeSN"
      }
    },
    {
      "cell_type": "code",
      "source": [
        "# create a string to test the regex\n",
        "test_string = '1960 1543 0323 1789 187e 18982 1892'\n",
        "# apply regex to string\n",
        "year_pattern.findall(test_string)"
      ],
      "metadata": {
        "id": "qD-Hy6kGTbag",
        "outputId": "b10896b7-132a-42ba-85a4-c461347259d9",
        "colab": {
          "base_uri": "https://localhost:8080/"
        }
      },
      "execution_count": 22,
      "outputs": [
        {
          "output_type": "execute_result",
          "data": {
            "text/plain": [
              "['1960', '1789', '1892']"
            ]
          },
          "metadata": {},
          "execution_count": 22
        }
      ]
    },
    {
      "cell_type": "markdown",
      "source": [
        "Now, we can apply this regex to all the values in the ESTABLISHED_DATE column and extract the year from the date string.\n",
        "\n",
        "However, there are a few problems (which are very common when working with cultural heritage datasets).\n",
        "- some rows do not have a value for these columns -> **missing data**\n",
        "- some rows contain multiple years -> **irregular data**\n",
        "\n",
        "Solutions?\n",
        "- if the cell is **empty**, we take the value in the YEAR column\n",
        "- if the cell contains multiple years, we focus on the first year mentioned\n",
        "\n",
        "Please note: Both of the above steps are **choices** that must be explained and motivated!"
      ],
      "metadata": {
        "id": "xYhxvS5wGULd"
      }
    },
    {
      "cell_type": "code",
      "source": [
        "# apply the regex to the ESTABLISHED_DATE data column and save result in the ESTABLISHED_YEAR column\n",
        "df['ESTABLISHED_YEAR'] = df['ESTABLISHED_DATE'].apply(lambda x: year_pattern.findall(x))\n",
        "# if no date has been found\n",
        "# - take either the first year\n",
        "# - or the value in the YEAR column\n",
        "# convert the numbers to integers\n",
        "df['ESTABLISHED_YEAR'] = df.apply(lambda x: int(x['ESTABLISHED_YEAR'][0]) if len(x['ESTABLISHED_YEAR']) > 0 else x['YEAR'], axis=1)"
      ],
      "metadata": {
        "id": "VvyBh419QwvZ"
      },
      "execution_count": 23,
      "outputs": []
    },
    {
      "cell_type": "code",
      "source": [
        "# inspect the result of this operation\n",
        "df['ESTABLISHED_YEAR'].unique()"
      ],
      "metadata": {
        "id": "Dm5JKJmeaaso",
        "outputId": "65f3579f-d6f3-4c8c-a796-db5df0c1cfc5",
        "colab": {
          "base_uri": "https://localhost:8080/"
        }
      },
      "execution_count": 30,
      "outputs": [
        {
          "output_type": "execute_result",
          "data": {
            "text/plain": [
              "array([1837, 1842, 1844, 1849, 1806, 1836, 1748, 1744, 1718, 1717, 1790,\n",
              "       1792, 1853, 1833, 1838, 1798, 1708, 1800, 1832, 1831, 1631, 1846,\n",
              "       1856, 1877, 1845, 1816, 1820, 1830, 1789, 1769, 1772, 1834, 1828,\n",
              "       1827, 1764, 1754, 1891, 1893, 1894, 1810, 1751, 1753, 1758, 1733,\n",
              "       1841, 1840, 1821, 1711, 1725, 1721, 1720, 1714, 1819, 1795, 1705,\n",
              "       1695, 1822, 1812, 1709, 1690, 1747, 1878, 1879, 1880, 1881, 1882,\n",
              "       1883, 1884, 1885, 1886, 1888, 1889, 1890, 1895, 1896, 1898, 1899,\n",
              "       1900, 1803, 1808, 1835, 1809, 1843, 1848, 1801, 1600, 1802, 1782,\n",
              "       1783, 1817, 1797, 1811, 1829, 1826, 1737, 1773, 1824, 1766, 1779,\n",
              "       1839, 1912, 1825, 1857, 1871, 1778, 1776, 1874, 1875, 1847, 1767,\n",
              "       1861, 1815, 1850, 1903, 1887, 1851, 1852, 1855, 1854, 1876, 1858,\n",
              "       1905, 1865, 1799, 1910, 1869, 1902, 1907, 1908, 1914, 1915, 1920,\n",
              "       1745, 1807, 1739, 1713, 1774, 1859, 1868, 1860, 1872, 1862, 1863,\n",
              "       1864, 1866, 1867, 1870, 1873, 1665, 1730, 1786, 1823, 1818, 1722,\n",
              "       1663, 1794, 1723, 1796, 1756, 1775, 1731, 1750, 1788, 1729, 1814,\n",
              "       1770, 1761, 1741, 1716, 1710, 1689, 1763, 1768, 1681, 1668, 1732,\n",
              "       1791, 1655, 1757, 1760, 1804, 1787, 1935, 1897, 1742, 1780, 1735,\n",
              "       1976, 1746, 1676, 1686, 1736, 1626, 1765, 1892, 1692, 1793, 1666,\n",
              "       1671, 1660, 1805, 1683, 1691, 1698, 1759, 1901, 1990, 1781, 1904,\n",
              "       1906, 1813, 1909, 1738, 1911, 1913, 1700, 1726, 1688, 1993, 1918,\n",
              "       1956, 1919, 1916, 1679, 1719, 1917])"
            ]
          },
          "metadata": {},
          "execution_count": 30
        }
      ]
    },
    {
      "cell_type": "markdown",
      "source": [
        "Now we can compute how old a newspaper is in a given year by subtracting ESTABLISHED_YEAR from YEAR. We save this in a new column with the name **SENIORITY**."
      ],
      "metadata": {
        "id": "hZNlC5kQJLp8"
      }
    },
    {
      "cell_type": "code",
      "source": [
        "# save the difference between YEAR and ESTABLISHED_YEAR in the SENIORITY column\n",
        "df['SENIORITY'] = df.apply(lambda x: int(x['YEAR']) - int(x['ESTABLISHED_YEAR']), axis=1)"
      ],
      "metadata": {
        "id": "l1z7ff0UkaSK"
      },
      "execution_count": 25,
      "outputs": []
    },
    {
      "cell_type": "code",
      "source": [
        "# apply mean to get the average age\n",
        "df['SENIORITY'].mean()"
      ],
      "metadata": {
        "id": "ghm06nSjmgos",
        "outputId": "0e2c49e2-518e-417d-f9b8-e06c95ef4cd6",
        "colab": {
          "base_uri": "https://localhost:8080/"
        }
      },
      "execution_count": 26,
      "outputs": [
        {
          "output_type": "execute_result",
          "data": {
            "text/plain": [
              "28.19219430776234"
            ]
          },
          "metadata": {},
          "execution_count": 26
        }
      ]
    },
    {
      "cell_type": "code",
      "source": [
        "# longest run observed during our period\n",
        "df['SENIORITY'].max()"
      ],
      "metadata": {
        "id": "WU4gqszsJm_t",
        "outputId": "cf6611b5-c24e-4ea6-9270-f49d8fb2cf80",
        "colab": {
          "base_uri": "https://localhost:8080/"
        }
      },
      "execution_count": 27,
      "outputs": [
        {
          "output_type": "execute_result",
          "data": {
            "text/plain": [
              "258"
            ]
          },
          "metadata": {},
          "execution_count": 27
        }
      ]
    },
    {
      "cell_type": "code",
      "source": [
        "df['ESTABLISHED_YEAR'].min()"
      ],
      "metadata": {
        "id": "Q7LndU_BA0Ke",
        "outputId": "1414f065-0dc2-4980-9f4e-e2d5ebc9597d",
        "colab": {
          "base_uri": "https://localhost:8080/"
        }
      },
      "execution_count": 24,
      "outputs": [
        {
          "output_type": "execute_result",
          "data": {
            "text/plain": [
              "1600"
            ]
          },
          "metadata": {},
          "execution_count": 24
        }
      ]
    },
    {
      "cell_type": "markdown",
      "source": [
        "Now we can compute for each year the average SENIORITY of a newspaper titles, and plot the result"
      ],
      "metadata": {
        "id": "y1REpvCeJwqq"
      }
    },
    {
      "cell_type": "code",
      "source": [
        "# groupby by year and compute the mean for the seniority column\n",
        "df.groupby(['YEAR'])['SENIORITY'].mean().plot()"
      ],
      "metadata": {
        "id": "K2FiOTrKp5YT",
        "outputId": "d34d0c6b-6114-4179-ee6c-f4b39ab988e1",
        "colab": {
          "base_uri": "https://localhost:8080/",
          "height": 467
        }
      },
      "execution_count": 28,
      "outputs": [
        {
          "output_type": "execute_result",
          "data": {
            "text/plain": [
              "<Axes: xlabel='YEAR'>"
            ]
          },
          "metadata": {},
          "execution_count": 28
        },
        {
          "output_type": "display_data",
          "data": {
            "text/plain": [
              "<Figure size 640x480 with 1 Axes>"
            ],
            "image/png": "[encoded data removed]"
          },
          "metadata": {}
        }
      ]
    },
    {
      "cell_type": "markdown",
      "source": [
        "To make plotting prettier and easier, we can use the seaborn library."
      ],
      "metadata": {
        "id": "QUrI-y29J9Wb"
      }
    },
    {
      "cell_type": "code",
      "source": [
        "import seaborn as sns\n",
        "sns.set()\n",
        "sns.lineplot(x='YEAR',y='SENIORITY', data=df)"
      ],
      "metadata": {
        "id": "vS8OhGrHnCVl",
        "outputId": "ec1531f6-2e71-4d93-efcf-aa911200b5d4",
        "colab": {
          "base_uri": "https://localhost:8080/",
          "height": 476
        }
      },
      "execution_count": 31,
      "outputs": [
        {
          "output_type": "execute_result",
          "data": {
            "text/plain": [
              "<Axes: xlabel='YEAR', ylabel='SENIORITY'>"
            ]
          },
          "metadata": {},
          "execution_count": 31
        },
        {
          "output_type": "display_data",
          "data": {
            "text/plain": [
              "<Figure size 640x480 with 1 Axes>"
            ],
            "image/png": "[encoded data removed]"
          },
          "metadata": {}
        }
      ]
    },
    {
      "cell_type": "markdown",
      "source": [
        "Let's inspect how seniority relates to the political orientation of a newspaper."
      ],
      "metadata": {
        "id": "EQ2i0HKfKHoB"
      }
    },
    {
      "cell_type": "code",
      "source": [
        "# subset data to row containing a specific set of political labels\n",
        "data = df[df['POLITICS'].isin(['liberal', 'conservative','independent','neutral'])]\n",
        "# make a lineplot\n",
        "sns.lineplot(x='YEAR', # values for the x-axis\n",
        "             y='SENIORITY', # values for the y-axis\n",
        "             hue='POLITICS', # split data by values in this cell\n",
        "             hue_order=['conservative', 'liberal','independent','neutral'], # the order of the colors/distinctions\n",
        "             data=data # use this data\n",
        "             )"
      ],
      "metadata": {
        "id": "8d_qs2nYkn9Q",
        "outputId": "201f5a6e-7f1d-46e8-b9ff-6449bf8b162d",
        "colab": {
          "base_uri": "https://localhost:8080/",
          "height": 476
        }
      },
      "execution_count": 32,
      "outputs": [
        {
          "output_type": "execute_result",
          "data": {
            "text/plain": [
              "<Axes: xlabel='YEAR', ylabel='SENIORITY'>"
            ]
          },
          "metadata": {},
          "execution_count": 32
        },
        {
          "output_type": "display_data",
          "data": {
            "text/plain": [
              "<Figure size 640x480 with 1 Axes>"
            ],
            "image/png": "[encoded data removed]"
          },
          "metadata": {}
        }
      ]
    },
    {
      "cell_type": "markdown",
      "source": [
        "Lastly, let's analyse and visualise how the seniority of newspaper titles differs by place. We will need to complete a few more processing steps to visualize this. Again, don't worry if Python is new to you, run the code and look at the outputs!\n",
        "\n",
        "After running the code, download the file it produces ('by_place.csv') and load it into [kepler.gl](https://kepler.gl/)"
      ],
      "metadata": {
        "id": "bgmCcBvMMclG"
      }
    },
    {
      "cell_type": "code",
      "source": [
        "# remove rows without coordinates\n",
        "df = df[df['PLACE_PUB_COORD'] != '(nan, nan)']\n",
        "# groupy by place name and coordinates\n",
        "by_place = df.groupby(['PLACE_PUB','PLACE_PUB_COORD']).agg({'SENIORITY':'mean', 'ID': 'count'}).reset_index()\n",
        "# convert the coordinates from string to a tuple\n",
        "by_place['PLACE_PUB_COORD'] = by_place['PLACE_PUB_COORD'].apply(eval)\n",
        "# save coordinates in different columns\n",
        "by_place['point_latitude'] = by_place.PLACE_PUB_COORD.apply(lambda x: x[0])\n",
        "by_place['point_longitude'] = by_place.PLACE_PUB_COORD.apply(lambda x: x[1])\n",
        "# remove the original column\n",
        "by_place.drop('PLACE_PUB_COORD', axis=1, inplace=True)\n",
        "# rename ID columns to COUNT\n",
        "by_place.rename(columns={'ID':'COUNT'}, inplace=True)\n",
        "# only keep places with more than 10 observation\n",
        "by_place = by_place[by_place.COUNT > 10]\n",
        "# save the result in csv file\n",
        "by_place.to_csv('by_place.csv')\n",
        "# now download the file and load it into kepler"
      ],
      "metadata": {
        "id": "uGi3TvGfr1yl"
      },
      "execution_count": 33,
      "outputs": []
    },
    {
      "cell_type": "code",
      "source": [
        "by_place"
      ],
      "metadata": {
        "id": "b573Jf2qsl3r",
        "outputId": "6f425c6f-2ce5-4f70-9c7f-671035c3cc04",
        "colab": {
          "base_uri": "https://localhost:8080/",
          "height": 424
        }
      },
      "execution_count": 34,
      "outputs": [
        {
          "output_type": "execute_result",
          "data": {
            "text/plain": [
              "        PLACE_PUB  SENIORITY  COUNT  point_latitude  point_longitude\n",
              "1        aberdare  20.183673     98       51.713056        -3.445000\n",
              "2        aberdeen  39.910941    393       57.150000        -2.100000\n",
              "4     abergavenny  18.500000     38       51.833056        -3.017222\n",
              "5        abergele  25.980000     50       53.280000        -3.580000\n",
              "6     abertillery  13.769231     26       51.730000        -3.130000\n",
              "...           ...        ...    ...             ...              ...\n",
              "1268      wycombe  19.156250     64       51.638500        -0.807900\n",
              "1269    wymondham   8.615385     13       52.570000         1.116000\n",
              "1270     yarmouth  19.380597    134       52.633333         1.750000\n",
              "1272       yeovil  86.270833     96       50.945200        -2.637000\n",
              "1274         york  48.540541    148       53.950000        -1.083333\n",
              "\n",
              "[877 rows x 5 columns]"
            ],
            "text/html": [
              "\n",
              "  <div id=\"df-a409fcc5-ab6f-4594-accc-6db3f78233cf\" class=\"colab-df-container\">\n",
              "    <div>\n",
              "<style scoped>\n",
              "    .dataframe tbody tr th:only-of-type {\n",
              "        vertical-align: middle;\n",
              "    }\n",
              "\n",
              "    .dataframe tbody tr th {\n",
              "        vertical-align: top;\n",
              "    }\n",
              "\n",
              "    .dataframe thead th {\n",
              "        text-align: right;\n",
              "    }\n",
              "</style>\n",
              "<table border=\"1\" class=\"dataframe\">\n",
              "  <thead>\n",
              "    <tr style=\"text-align: right;\">\n",
              "      <th></th>\n",
              "      <th>PLACE_PUB</th>\n",
              "      <th>SENIORITY</th>\n",
              "      <th>COUNT</th>\n",
              "      <th>point_latitude</th>\n",
              "      <th>point_longitude</th>\n",
              "    </tr>\n",
              "  </thead>\n",
              "  <tbody>\n",
              "    <tr>\n",
              "      <th>1</th>\n",
              "      <td>aberdare</td>\n",
              "      <td>20.183673</td>\n",
              "      <td>98</td>\n",
              "      <td>51.713056</td>\n",
              "      <td>-3.445000</td>\n",
              "    </tr>\n",
              "    <tr>\n",
              "      <th>2</th>\n",
              "      <td>aberdeen</td>\n",
              "      <td>39.910941</td>\n",
              "      <td>393</td>\n",
              "      <td>57.150000</td>\n",
              "      <td>-2.100000</td>\n",
              "    </tr>\n",
              "    <tr>\n",
              "      <th>4</th>\n",
              "      <td>abergavenny</td>\n",
              "      <td>18.500000</td>\n",
              "      <td>38</td>\n",
              "      <td>51.833056</td>\n",
              "      <td>-3.017222</td>\n",
              "    </tr>\n",
              "    <tr>\n",
              "      <th>5</th>\n",
              "      <td>abergele</td>\n",
              "      <td>25.980000</td>\n",
              "      <td>50</td>\n",
              "      <td>53.280000</td>\n",
              "      <td>-3.580000</td>\n",
              "    </tr>\n",
              "    <tr>\n",
              "      <th>6</th>\n",
              "      <td>abertillery</td>\n",
              "      <td>13.769231</td>\n",
              "      <td>26</td>\n",
              "      <td>51.730000</td>\n",
              "      <td>-3.130000</td>\n",
              "    </tr>\n",
              "    <tr>\n",
              "      <th>...</th>\n",
              "      <td>...</td>\n",
              "      <td>...</td>\n",
              "      <td>...</td>\n",
              "      <td>...</td>\n",
              "      <td>...</td>\n",
              "    </tr>\n",
              "    <tr>\n",
              "      <th>1268</th>\n",
              "      <td>wycombe</td>\n",
              "      <td>19.156250</td>\n",
              "      <td>64</td>\n",
              "      <td>51.638500</td>\n",
              "      <td>-0.807900</td>\n",
              "    </tr>\n",
              "    <tr>\n",
              "      <th>1269</th>\n",
              "      <td>wymondham</td>\n",
              "      <td>8.615385</td>\n",
              "      <td>13</td>\n",
              "      <td>52.570000</td>\n",
              "      <td>1.116000</td>\n",
              "    </tr>\n",
              "    <tr>\n",
              "      <th>1270</th>\n",
              "      <td>yarmouth</td>\n",
              "      <td>19.380597</td>\n",
              "      <td>134</td>\n",
              "      <td>52.633333</td>\n",
              "      <td>1.750000</td>\n",
              "    </tr>\n",
              "    <tr>\n",
              "      <th>1272</th>\n",
              "      <td>yeovil</td>\n",
              "      <td>86.270833</td>\n",
              "      <td>96</td>\n",
              "      <td>50.945200</td>\n",
              "      <td>-2.637000</td>\n",
              "    </tr>\n",
              "    <tr>\n",
              "      <th>1274</th>\n",
              "      <td>york</td>\n",
              "      <td>48.540541</td>\n",
              "      <td>148</td>\n",
              "      <td>53.950000</td>\n",
              "      <td>-1.083333</td>\n",
              "    </tr>\n",
              "  </tbody>\n",
              "</table>\n",
              "<p>877 rows × 5 columns</p>\n",
              "</div>\n",
              "    <div class=\"colab-df-buttons\">\n",
              "\n",
              "  <div class=\"colab-df-container\">\n",
              "    <button class=\"colab-df-convert\" onclick=\"convertToInteractive('df-a409fcc5-ab6f-4594-accc-6db3f78233cf')\"\n",
              "            title=\"Convert this dataframe to an interactive table.\"\n",
              "            style=\"display:none;\">\n",
              "\n",
              "  <svg xmlns=\"http://www.w3.org/2000/svg\" height=\"24px\" viewBox=\"0 -960 960 960\">\n",
              "    <path d=\"M120-120v-720h720v720H120Zm60-500h600v-160H180v160Zm220 220h160v-160H400v160Zm0 220h160v-160H400v160ZM180-400h160v-160H180v160Zm440 0h160v-160H620v160ZM180-180h160v-160H180v160Zm440 0h160v-160H620v160Z\"/>\n",
              "  </svg>\n",
              "    </button>\n",
              "\n",
              "  <style>\n",
              "    .colab-df-container {\n",
              "      display:flex;\n",
              "      gap: 12px;\n",
              "    }\n",
              "\n",
              "    .colab-df-convert {\n",
              "      background-color: #E8F0FE;\n",
              "      border: none;\n",
              "      border-radius: 50%;\n",
              "      cursor: pointer;\n",
              "      display: none;\n",
              "      fill: #1967D2;\n",
              "      height: 32px;\n",
              "      padding: 0 0 0 0;\n",
              "      width: 32px;\n",
              "    }\n",
              "\n",
              "    .colab-df-convert:hover {\n",
              "      background-color: #E2EBFA;\n",
              "      box-shadow: 0px 1px 2px rgba(60, 64, 67, 0.3), 0px 1px 3px 1px rgba(60, 64, 67, 0.15);\n",
              "      fill: #174EA6;\n",
              "    }\n",
              "\n",
              "    .colab-df-buttons div {\n",
              "      margin-bottom: 4px;\n",
              "    }\n",
              "\n",
              "    [theme=dark] .colab-df-convert {\n",
              "      background-color: #3B4455;\n",
              "      fill: #D2E3FC;\n",
              "    }\n",
              "\n",
              "    [theme=dark] .colab-df-convert:hover {\n",
              "      background-color: #434B5C;\n",
              "      box-shadow: 0px 1px 3px 1px rgba(0, 0, 0, 0.15);\n",
              "      filter: drop-shadow(0px 1px 2px rgba(0, 0, 0, 0.3));\n",
              "      fill: #FFFFFF;\n",
              "    }\n",
              "  </style>\n",
              "\n",
              "    <script>\n",
              "      const buttonEl =\n",
              "        document.querySelector('#df-a409fcc5-ab6f-4594-accc-6db3f78233cf button.colab-df-convert');\n",
              "      buttonEl.style.display =\n",
              "        google.colab.kernel.accessAllowed ? 'block' : 'none';\n",
              "\n",
              "      async function convertToInteractive(key) {\n",
              "        const element = document.querySelector('#df-a409fcc5-ab6f-4594-accc-6db3f78233cf');\n",
              "        const dataTable =\n",
              "          await google.colab.kernel.invokeFunction('convertToInteractive',\n",
              "                                                    [key], {});\n",
              "        if (!dataTable) return;\n",
              "\n",
              "        const docLinkHtml = 'Like what you see? Visit the ' +\n",
              "          '<a target=\"_blank\" href=https://colab.research.google.com/notebooks/data_table.ipynb>data table notebook</a>'\n",
              "          + ' to learn more about interactive tables.';\n",
              "        element.innerHTML = '';\n",
              "        dataTable['output_type'] = 'display_data';\n",
              "        await google.colab.output.renderOutput(dataTable, element);\n",
              "        const docLink = document.createElement('div');\n",
              "        docLink.innerHTML = docLinkHtml;\n",
              "        element.appendChild(docLink);\n",
              "      }\n",
              "    </script>\n",
              "  </div>\n",
              "\n",
              "\n",
              "<div id=\"df-bf511dcd-52d0-4863-b7b0-5e9c0ba59f92\">\n",
              "  <button class=\"colab-df-quickchart\" onclick=\"quickchart('df-bf511dcd-52d0-4863-b7b0-5e9c0ba59f92')\"\n",
              "            title=\"Suggest charts\"\n",
              "            style=\"display:none;\">\n",
              "\n",
              "<svg xmlns=\"http://www.w3.org/2000/svg\" height=\"24px\"viewBox=\"0 0 24 24\"\n",
              "     width=\"24px\">\n",
              "    <g>\n",
              "        <path d=\"M19 3H5c-1.1 0-2 .9-2 2v14c0 1.1.9 2 2 2h14c1.1 0 2-.9 2-2V5c0-1.1-.9-2-2-2zM9 17H7v-7h2v7zm4 0h-2V7h2v10zm4 0h-2v-4h2v4z\"/>\n",
              "    </g>\n",
              "</svg>\n",
              "  </button>\n",
              "\n",
              "<style>\n",
              "  .colab-df-quickchart {\n",
              "      --bg-color: #E8F0FE;\n",
              "      --fill-color: #1967D2;\n",
              "      --hover-bg-color: #E2EBFA;\n",
              "      --hover-fill-color: #174EA6;\n",
              "      --disabled-fill-color: #AAA;\n",
              "      --disabled-bg-color: #DDD;\n",
              "  }\n",
              "\n",
              "  [theme=dark] .colab-df-quickchart {\n",
              "      --bg-color: #3B4455;\n",
              "      --fill-color: #D2E3FC;\n",
              "      --hover-bg-color: #434B5C;\n",
              "      --hover-fill-color: #FFFFFF;\n",
              "      --disabled-bg-color: #3B4455;\n",
              "      --disabled-fill-color: #666;\n",
              "  }\n",
              "\n",
              "  .colab-df-quickchart {\n",
              "    background-color: var(--bg-color);\n",
              "    border: none;\n",
              "    border-radius: 50%;\n",
              "    cursor: pointer;\n",
              "    display: none;\n",
              "    fill: var(--fill-color);\n",
              "    height: 32px;\n",
              "    padding: 0;\n",
              "    width: 32px;\n",
              "  }\n",
              "\n",
              "  .colab-df-quickchart:hover {\n",
              "    background-color: var(--hover-bg-color);\n",
              "    box-shadow: 0 1px 2px rgba(60, 64, 67, 0.3), 0 1px 3px 1px rgba(60, 64, 67, 0.15);\n",
              "    fill: var(--button-hover-fill-color);\n",
              "  }\n",
              "\n",
              "  .colab-df-quickchart-complete:disabled,\n",
              "  .colab-df-quickchart-complete:disabled:hover {\n",
              "    background-color: var(--disabled-bg-color);\n",
              "    fill: var(--disabled-fill-color);\n",
              "    box-shadow: none;\n",
              "  }\n",
              "\n",
              "  .colab-df-spinner {\n",
              "    border: 2px solid var(--fill-color);\n",
              "    border-color: transparent;\n",
              "    border-bottom-color: var(--fill-color);\n",
              "    animation:\n",
              "      spin 1s steps(1) infinite;\n",
              "  }\n",
              "\n",
              "  @keyframes spin {\n",
              "    0% {\n",
              "      border-color: transparent;\n",
              "      border-bottom-color: var(--fill-color);\n",
              "      border-left-color: var(--fill-color);\n",
              "    }\n",
              "    20% {\n",
              "      border-color: transparent;\n",
              "      border-left-color: var(--fill-color);\n",
              "      border-top-color: var(--fill-color);\n",
              "    }\n",
              "    30% {\n",
              "      border-color: transparent;\n",
              "      border-left-color: var(--fill-color);\n",
              "      border-top-color: var(--fill-color);\n",
              "      border-right-color: var(--fill-color);\n",
              "    }\n",
              "    40% {\n",
              "      border-color: transparent;\n",
              "      border-right-color: var(--fill-color);\n",
              "      border-top-color: var(--fill-color);\n",
              "    }\n",
              "    60% {\n",
              "      border-color: transparent;\n",
              "      border-right-color: var(--fill-color);\n",
              "    }\n",
              "    80% {\n",
              "      border-color: transparent;\n",
              "      border-right-color: var(--fill-color);\n",
              "      border-bottom-color: var(--fill-color);\n",
              "    }\n",
              "    90% {\n",
              "      border-color: transparent;\n",
              "      border-bottom-color: var(--fill-color);\n",
              "    }\n",
              "  }\n",
              "</style>\n",
              "\n",
              "  <script>\n",
              "    async function quickchart(key) {\n",
              "      const quickchartButtonEl =\n",
              "        document.querySelector('#' + key + ' button');\n",
              "      quickchartButtonEl.disabled = true;  // To prevent multiple clicks.\n",
              "      quickchartButtonEl.classList.add('colab-df-spinner');\n",
              "      try {\n",
              "        const charts = await google.colab.kernel.invokeFunction(\n",
              "            'suggestCharts', [key], {});\n",
              "      } catch (error) {\n",
              "        console.error('Error during call to suggestCharts:', error);\n",
              "      }\n",
              "      quickchartButtonEl.classList.remove('colab-df-spinner');\n",
              "      quickchartButtonEl.classList.add('colab-df-quickchart-complete');\n",
              "    }\n",
              "    (() => {\n",
              "      let quickchartButtonEl =\n",
              "        document.querySelector('#df-bf511dcd-52d0-4863-b7b0-5e9c0ba59f92 button');\n",
              "      quickchartButtonEl.style.display =\n",
              "        google.colab.kernel.accessAllowed ? 'block' : 'none';\n",
              "    })();\n",
              "  </script>\n",
              "</div>\n",
              "\n",
              "  <div id=\"id_2924f75a-02c5-47bf-9a22-a2f715102375\">\n",
              "    <style>\n",
              "      .colab-df-generate {\n",
              "        background-color: #E8F0FE;\n",
              "        border: none;\n",
              "        border-radius: 50%;\n",
              "        cursor: pointer;\n",
              "        display: none;\n",
              "        fill: #1967D2;\n",
              "        height: 32px;\n",
              "        padding: 0 0 0 0;\n",
              "        width: 32px;\n",
              "      }\n",
              "\n",
              "      .colab-df-generate:hover {\n",
              "        background-color: #E2EBFA;\n",
              "        box-shadow: 0px 1px 2px rgba(60, 64, 67, 0.3), 0px 1px 3px 1px rgba(60, 64, 67, 0.15);\n",
              "        fill: #174EA6;\n",
              "      }\n",
              "\n",
              "      [theme=dark] .colab-df-generate {\n",
              "        background-color: #3B4455;\n",
              "        fill: #D2E3FC;\n",
              "      }\n",
              "\n",
              "      [theme=dark] .colab-df-generate:hover {\n",
              "        background-color: #434B5C;\n",
              "        box-shadow: 0px 1px 3px 1px rgba(0, 0, 0, 0.15);\n",
              "        filter: drop-shadow(0px 1px 2px rgba(0, 0, 0, 0.3));\n",
              "        fill: #FFFFFF;\n",
              "      }\n",
              "    </style>\n",
              "    <button class=\"colab-df-generate\" onclick=\"generateWithVariable('by_place')\"\n",
              "            title=\"Generate code using this dataframe.\"\n",
              "            style=\"display:none;\">\n",
              "\n",
              "  <svg xmlns=\"http://www.w3.org/2000/svg\" height=\"24px\"viewBox=\"0 0 24 24\"\n",
              "       width=\"24px\">\n",
              "    <path d=\"M7,19H8.4L18.45,9,17,7.55,7,17.6ZM5,21V16.75L18.45,3.32a2,2,0,0,1,2.83,0l1.4,1.43a1.91,1.91,0,0,1,.58,1.4,1.91,1.91,0,0,1-.58,1.4L9.25,21ZM18.45,9,17,7.55Zm-12,3A5.31,5.31,0,0,0,4.9,8.1,5.31,5.31,0,0,0,1,6.5,5.31,5.31,0,0,0,4.9,4.9,5.31,5.31,0,0,0,6.5,1,5.31,5.31,0,0,0,8.1,4.9,5.31,5.31,0,0,0,12,6.5,5.46,5.46,0,0,0,6.5,12Z\"/>\n",
              "  </svg>\n",
              "    </button>\n",
              "    <script>\n",
              "      (() => {\n",
              "      const buttonEl =\n",
              "        document.querySelector('#id_2924f75a-02c5-47bf-9a22-a2f715102375 button.colab-df-generate');\n",
              "      buttonEl.style.display =\n",
              "        google.colab.kernel.accessAllowed ? 'block' : 'none';\n",
              "\n",
              "      buttonEl.onclick = () => {\n",
              "        google.colab.notebook.generateWithVariable('by_place');\n",
              "      }\n",
              "      })();\n",
              "    </script>\n",
              "  </div>\n",
              "\n",
              "    </div>\n",
              "  </div>\n"
            ],
            "application/vnd.google.colaboratory.intrinsic+json": {
              "type": "dataframe",
              "variable_name": "by_place",
              "summary": "{\n  \"name\": \"by_place\",\n  \"rows\": 877,\n  \"fields\": [\n    {\n      \"column\": \"PLACE_PUB\",\n      \"properties\": {\n        \"dtype\": \"string\",\n        \"num_unique_values\": 868,\n        \"samples\": [\n          \"huntingdon\",\n          \"bathgate\",\n          \"lyme regis\"\n        ],\n        \"semantic_type\": \"\",\n        \"description\": \"\"\n      }\n    },\n    {\n      \"column\": \"SENIORITY\",\n      \"properties\": {\n        \"dtype\": \"number\",\n        \"std\": 12.98491537546599,\n        \"min\": 0.0,\n        \"max\": 100.85981308411215,\n        \"num_unique_values\": 850,\n        \"samples\": [\n          22.015873015873016,\n          16.48148148148148,\n          11.806451612903226\n        ],\n        \"semantic_type\": \"\",\n        \"description\": \"\"\n      }\n    },\n    {\n      \"column\": \"COUNT\",\n      \"properties\": {\n        \"dtype\": \"number\",\n        \"std\": 583,\n        \"min\": 11,\n        \"max\": 17104,\n        \"num_unique_values\": 218,\n        \"samples\": [\n          88,\n          343,\n          109\n        ],\n        \"semantic_type\": \"\",\n        \"description\": \"\"\n      }\n    },\n    {\n      \"column\": \"point_latitude\",\n      \"properties\": {\n        \"dtype\": \"number\",\n        \"std\": 1.725598044067996,\n        \"min\": 49.21,\n        \"max\": 60.154167,\n        \"num_unique_values\": 836,\n        \"samples\": [\n          51.237644,\n          51.60475,\n          51.657\n        ],\n        \"semantic_type\": \"\",\n        \"description\": \"\"\n      }\n    },\n    {\n      \"column\": \"point_longitude\",\n      \"properties\": {\n        \"dtype\": \"number\",\n        \"std\": 2.1196658407756845,\n        \"min\": -9.6962,\n        \"max\": 1.75,\n        \"num_unique_values\": 845,\n        \"samples\": [\n          -2.963186,\n          -1.3002,\n          -3.480189\n        ],\n        \"semantic_type\": \"\",\n        \"description\": \"\"\n      }\n    }\n  ]\n}"
            }
          },
          "metadata": {},
          "execution_count": 34
        }
      ]
    },
    {
      "cell_type": "markdown",
      "source": [
        "### Case Study 2: Women in the press\n",
        "\n",
        "Let's explore a different question, and study the press directories through a gendered lens.\n",
        "- To what extent are women present?\n",
        "- How does this change over time?"
      ],
      "metadata": {
        "id": "ixL0XOGJQwRz"
      }
    },
    {
      "cell_type": "code",
      "source": [
        "# load the dataframe\n",
        "df = pd.read_csv('https://bl.iro.bl.uk/downloads/da65047c-4d62-4ab7-946f-8e61e5f6f331?locale=en', index_col=0)"
      ],
      "metadata": {
        "id": "abjeZcu9jZMu"
      },
      "execution_count": 35,
      "outputs": []
    },
    {
      "cell_type": "code",
      "source": [
        "# replace not a number nan with empty spaces\n",
        "df.fillna('', inplace=True)"
      ],
      "metadata": {
        "id": "Fi6T791BQ6qn"
      },
      "execution_count": null,
      "outputs": []
    },
    {
      "cell_type": "code",
      "source": [
        "# show three random rows\n",
        "df.sample(3)"
      ],
      "metadata": {
        "id": "Iz87jbhdQ0OF"
      },
      "execution_count": null,
      "outputs": []
    },
    {
      "cell_type": "code",
      "source": [
        "# inspect the values in the PERSONS columns\n",
        "df['PERSONS'].unique()"
      ],
      "metadata": {
        "id": "1bZdRpRXQU3A"
      },
      "execution_count": null,
      "outputs": []
    },
    {
      "cell_type": "code",
      "source": [
        "# how many different names are there?\n",
        "len(df['PERSONS'].unique())"
      ],
      "metadata": {
        "id": "amhpprDMzXrA"
      },
      "execution_count": null,
      "outputs": []
    },
    {
      "cell_type": "code",
      "source": [
        "# what are the most frequent names\n",
        "# does it contain women?\n",
        "df['PERSONS'].value_counts()[:5]"
      ],
      "metadata": {
        "id": "ZkV995_ezgJY"
      },
      "execution_count": null,
      "outputs": []
    },
    {
      "cell_type": "markdown",
      "source": [
        "#### Processing names"
      ],
      "metadata": {
        "id": "2t4Vmj-b0g04"
      }
    },
    {
      "cell_type": "code",
      "source": [
        "# get all the misses (i.e. PERSONS starting with miss)\n",
        "[p for p in df['PERSONS'].unique() if p.lower().startswith('miss')]"
      ],
      "metadata": {
        "id": "f1EUD6A1ROaB"
      },
      "execution_count": null,
      "outputs": []
    },
    {
      "cell_type": "code",
      "source": [
        "# split the PERSONS entry by <SEP> and then by white space\n",
        "persons = [i.split() for p in df['PERSONS'].unique() for i in p.split('<SEP>')]"
      ],
      "metadata": {
        "id": "Syk7y1oeRjrQ"
      },
      "execution_count": null,
      "outputs": []
    },
    {
      "cell_type": "code",
      "source": [
        "# first five persons\n",
        "persons[:5]"
      ],
      "metadata": {
        "id": "xEJk2_u-RlEA"
      },
      "execution_count": null,
      "outputs": []
    },
    {
      "cell_type": "code",
      "source": [
        "first_person = persons[0]\n",
        "print(first_person)\n",
        "first_name = first_person[0]\n",
        "print(first_name)"
      ],
      "metadata": {
        "id": "jyATLWlX0tcy"
      },
      "execution_count": null,
      "outputs": []
    },
    {
      "cell_type": "code",
      "source": [
        "# to process the names we\n",
        "# - get the first element of the split names\n",
        "# - get the lowercased version of the first name\n",
        "# - strip any white spaces around the lowercased first name\n",
        "first_names_unique = set([p[0].lower().strip() for p in persons if p])\n",
        "# this reduces the number of names a lot!\n",
        "len(first_names_unique)"
      ],
      "metadata": {
        "id": "k9HKXigDSAc1"
      },
      "execution_count": null,
      "outputs": []
    },
    {
      "cell_type": "code",
      "source": [
        "#first_names_unique"
      ],
      "metadata": {
        "id": "hvF9UlYCSJg4"
      },
      "execution_count": null,
      "outputs": []
    },
    {
      "cell_type": "code",
      "source": [
        "# I went through the first_names_unique manually and selected\n",
        "# names and titles that might refer to women...\n",
        "# then I constructed a regex pattern that will match any name/title\n",
        "female_first_name = ['sarah', 'mary', 'rebecca', 'mrs',  'miss', 'mary', 'maryanne', 'margaret',  'marie', 'louisa', 'honoria',\n",
        "'helen', 'hannah', 'florence', 'evelyn', 'esther', 'ellizabeth', 'elizabeth', 'eliza', 'dora', 'catherine',\n",
        "'annie', 'anne', 'anna', 'ann', 'alice', 'alicia']\n",
        "regex_pattern = '|'.join([fr\"\\b{n}\\b\" for n in female_first_name])\n",
        "print(regex_pattern)"
      ],
      "metadata": {
        "id": "oVL-qTm9XYJ_"
      },
      "execution_count": null,
      "outputs": []
    },
    {
      "cell_type": "code",
      "source": [
        "# we apply the regex pattern to the PERSONS column\n",
        "# for rows with a female name we have it return True, otherwise False\n",
        "# we make it look a bit fancy using a tqdm progress bar\n",
        "from tqdm import tqdm\n",
        "tqdm.pandas()\n",
        "pattern = re.compile(regex_pattern)\n",
        "df['has_female_name'] = df['PERSONS'].progress_apply(lambda x: bool(pattern.search(x.lower())))"
      ],
      "metadata": {
        "id": "KvPhHltsaJaT"
      },
      "execution_count": null,
      "outputs": []
    },
    {
      "cell_type": "code",
      "source": [
        "# the number of rows with female names\n",
        "df['has_female_name'].sum()"
      ],
      "metadata": {
        "id": "lHtEWLmraqN4"
      },
      "execution_count": null,
      "outputs": []
    },
    {
      "cell_type": "code",
      "source": [
        "# the percentage of rows with female names\n",
        "round((df['has_female_name'].sum() / len(df))*100,2)"
      ],
      "metadata": {
        "id": "yA-NUOG-2A6o"
      },
      "execution_count": null,
      "outputs": []
    },
    {
      "cell_type": "code",
      "source": [
        "# we can zoom in on these rows\n",
        "df[df['has_female_name'] == True]"
      ],
      "metadata": {
        "id": "-3STC2v_agpr"
      },
      "execution_count": null,
      "outputs": []
    },
    {
      "cell_type": "code",
      "source": [
        "# zoom in on the actual text to get more information\n",
        "# on the role of women in the press\n",
        "# change the idx to a number smaller dan 779\n",
        "idx = 1\n",
        "df.loc[df['has_female_name'] == True].iloc[idx]['TEXT']"
      ],
      "metadata": {
        "id": "8bhC1k5S2ZUi"
      },
      "execution_count": null,
      "outputs": []
    },
    {
      "cell_type": "code",
      "source": [
        "# what are the titles\n",
        "df[df['has_female_name'] == True]['TITLE'].unique()"
      ],
      "metadata": {
        "id": "LjeyGW0BbEdI"
      },
      "execution_count": null,
      "outputs": []
    },
    {
      "cell_type": "code",
      "source": [
        "# what is the political leaning of these newspapers?\n",
        "df[df['has_female_name'] == True]['POLITICS'].value_counts(normalize=True)[:5]"
      ],
      "metadata": {
        "id": "jbmn8wZUavs7"
      },
      "execution_count": null,
      "outputs": []
    },
    {
      "cell_type": "code",
      "source": [
        "# how does this compare the newspaper landscape?\n",
        "df['POLITICS'].value_counts(normalize=True)[:5]"
      ],
      "metadata": {
        "id": "mib3d6f1ajiB"
      },
      "execution_count": null,
      "outputs": []
    },
    {
      "cell_type": "code",
      "source": [
        "# what about changes over time?\n",
        "df[df['has_female_name'] == True].groupby(['YEAR']).size().plot()"
      ],
      "metadata": {
        "id": "8oNwkiiwa5wM"
      },
      "execution_count": null,
      "outputs": []
    },
    {
      "cell_type": "code",
      "source": [
        "df.groupby(['YEAR'])['PERSONS'].nunique().plot()\n",
        "df.groupby(['YEAR'])['ORGANIZATIONS'].nunique().plot()"
      ],
      "metadata": {
        "id": "JGbCEmTdbeRa"
      },
      "execution_count": null,
      "outputs": []
    },
    {
      "cell_type": "markdown",
      "source": [
        "### Case Study 3: Your Turn!\n",
        "\n",
        "What else would you like to find out?"
      ],
      "metadata": {
        "id": "KmHkWVgJt7gZ"
      }
    },
    {
      "cell_type": "code",
      "source": [
        "# let's start coding"
      ],
      "metadata": {
        "id": "yvf3E_POuHH3"
      },
      "execution_count": null,
      "outputs": []
    },
    {
      "cell_type": "markdown",
      "source": [
        "![bye](https://i.giphy.com/media/v1.Y2lkPTc5MGI3NjExbmFzOHBqaTBiYXh0bGczZ2t3a3VtanRrMWNmZ2owcTVnNGtxMXp3NSZlcD12MV9pbnRlcm5hbF9naWZfYnlfaWQmY3Q9Zw/Z5PxhW6BlWJjCkoPIQ/giphy.gif)"
      ],
      "metadata": {
        "id": "RamsYHNn3aFJ"
      }
    },
    {
      "cell_type": "markdown",
      "source": [
        "# Fin."
      ],
      "metadata": {
        "id": "-z_QjLW-cYwY"
      }
    }
  ]
}